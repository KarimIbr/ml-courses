{
 "cells": [
  {
   "cell_type": "markdown",
   "id": "d69b3fc0",
   "metadata": {},
   "source": [
    "# Inleiding tot Notebooks \n",
    "\n",
    ":::{figure} https://vitruvio.imss.fi.it/foto/telescopiogalileo/2_3_6_800.jpg?raw=true\n",
    "\n",
    ":::"
   ]
  },
  {
   "cell_type": "code",
   "execution_count": 2,
   "id": "92241145",
   "metadata": {},
   "outputs": [
    {
     "name": "stdout",
     "output_type": "stream",
     "text": [
      "hello world!\n"
     ]
    }
   ],
   "source": [
    "print(\"hello world!\")"
   ]
  },
  {
   "cell_type": "markdown",
   "id": "b993a016",
   "metadata": {},
   "source": [
    "Er zijn heel veel bronnen beschikbaar online om je vertrouwd te maken met Jupyter Notebooks, bijvoorbeeld:\n",
    "- [Jupyter Notebooks in VS Code](https://code.visualstudio.com/docs/datascience/jupyter-notebooks#_create-or-open-a-jupyter-notebook)\n",
    "- [Jupyter Notebooks in Google Colaboratory](https://colab.research.google.com/notebooks/basic_features_overview.ipynb)"
   ]
  }
 ],
 "metadata": {
  "kernelspec": {
   "display_name": "ml-courses",
   "language": "python",
   "name": "python3"
  },
  "language_info": {
   "codemirror_mode": {
    "name": "ipython",
    "version": 3
   },
   "file_extension": ".py",
   "mimetype": "text/x-python",
   "name": "python",
   "nbconvert_exporter": "python",
   "pygments_lexer": "ipython3",
   "version": "3.10.18"
  }
 },
 "nbformat": 4,
 "nbformat_minor": 5
}
