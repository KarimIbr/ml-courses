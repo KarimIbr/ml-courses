{
    "cells": [
        {
            "cell_type": "markdown",
            "id": "185ec471",
            "metadata": {},
            "source": [
                "# Introductie\n",
                "**Lineaire regressie** is een centraal **model** binnen Machine Learning. Om de wiskunde van ML te begrijpen is het een absolute _must_ om dit model - en vooral ook de geassocieerde leeralgoritmes - ten volle te doorgronden. Het model komt uit de statistiek en veronderstelt dat **bepaalde target data (\"_responsvariabele(n)_\" genoemd in de statistiek) in lineair verband staan met één of meerdere features (ook wel \"_predictoren_\" genoemd in de de statistiek**).  \n",
                "  \n",
                "## Data simulatie\n",
                "We beginnen met de simulatie van een simpele situatie. Stel dat er in een ideale wereld (voor koffiehuizen) een lineare relatie bestaat tussen de grootte van een bestelling en de fooi die klanten erbovenop betalen:\n",
                "$$\n",
                "y = b_1 + b_2x\n",
                "$$\n",
                "waarbij $y$ de grootte van de fooi is, $b_1$ een basis fooi en $b_2$ een multiplicatieve factor voor de prijs van de aankoop.  \n",
                "Het _probleem_ dat we willen oplossen is het achterhalen van $b_1$ en $b_2$.  \n",
                "We verzamelen daarvoor data van 50 aankopen en houden er rekening mee dat er een meetfout zal zijn: de lineaire relatie zal niet altijd perfect zijn.  \n",
                "Ons model voor de data is het volgende:\n",
                "\n",
                "$$\n",
                "\\begin{align}\n",
                "\\pmb{y} &= b_1 + b_2\\pmb{x} + \\pmb{e} \\cr\n",
                "\\pmb{y} &= \\pmb{X}\\pmb{b} + \\pmb{e}\n",
                "\\end{align}\n",
                "$$\n",
                "\n",
                "met\n",
                "\n",
                "$$\n",
                "\\pmb{X} = \\begin{bmatrix}\n",
                "1 & x_1 \\cr\n",
                "1 & x_2 \\cr\n",
                "\\vdots & \\vdots \\cr\n",
                "1 & x_n \\cr\n",
                "\\end{bmatrix}\n",
                "$$\n",
                "\n",
                "$$\n",
                "\\pmb{b} = \\begin{bmatrix}\n",
                "b_1 \\cr\n",
                "b_2\n",
                "\\end{bmatrix}\n",
                "$$\n",
                "\n",
                "$$\n",
                "e_i \\sim N(0, \\sigma)\n",
                "$$\n",
                "\n",
                "Dit laatste is ons _noise_ model: we gaan ervan uit dat ieder data punt een additieve ruis component heeft\n",
                "$e_i = y_i - b_1 - b_2*x_i$ die een _normale verdeling_[^prob] volgt met gemiddelde $0$ en _standaardafwijking_ $1$.\n",
                "Hier onthouden we de implicatie:\n",
                "\n",
                "$$\n",
                "\\begin{align}\n",
                "E(e_i) &= 0 \\cr\n",
                "E(\\pmb{y}) &= \\pmb{X}\\pmb{b}\n",
                "\\end{align}\n",
                "$$\n",
                "\n",
                "::: {tip}\n",
                "Merk terloops op dat we in dit model ervan uitgaan dat de aankoopprijzen $\\pmb{x}$ zijn wat ze zijn, dus verkregen zijn _zonder_ meetfout.\n",
                ":::\n",
                "\n",
                "Om data te simuleren gebruikten we de volgende waarden voor de parameters:\n",
                "\n",
                "$$\n",
                "\\begin{align}\n",
                "b_1 &= 0.50 \\cr\n",
                "b_2 &= 0.15 \\cr\n",
                "\\sigma &= 0.30\n",
                "\\end{align}\n",
                "$$\n",
                "  \n",
                ":::{note} $b_1$, $b_2$ benamingen\n",
                "In de geometrische voorstelling van lineaire regressie wordt $b_1$ ook het ($y$) **_intercept_** genoemd aangezien het verwijst naar het snijpunt van de rechte met de $y$-as (coördinaat $(0, b_1)$). De parameter $b_2$ wordt de **_slope_** genoemd omdat die de richtingscoëfficient van de rechte uitdrukt.  \n",
                "In machine learning wordt $b_1$ ook als **_bias_** benoemd.\n",
                ":::\n",
                "  \n",
                "Voor de grootte van de orders $\\pmb{x}$ te simuleren, trekken we 50 samples uit een _uniforme verdeling_[^prob] met de volgende parameters.\n",
                "\n",
                "$$\n",
                "x_i \\sim U(3, 25)\n",
                "$$\n",
                "\n",
                "[^prob]: We komen hierop terug in de secties over probabiliteit. "
            ]
        },
        {
            "cell_type": "code",
            "execution_count": 1,
            "id": "c2b2aaa8",
            "metadata": {},
            "outputs": [],
            "source": [
                "import matplotlib.pyplot as plt\n",
                "import numpy as np"
            ]
        },
        {
            "cell_type": "code",
            "execution_count": 2,
            "id": "1583034d",
            "metadata": {},
            "outputs": [
                {
                    "name": "stdout",
                    "output_type": "stream",
                    "text": [
                        "☕ COFFEE SHOP TIPPING ANALYSIS\n",
                        "True relationship: Tip = $0.50 + 15.0% × Order Total\n",
                        "We collected data from 50 customers\n",
                        "Order range: $3.96 - $24.46\n",
                        "Tip range: $0.94 - $3.90\n"
                    ]
                },
                {
                    "data": {
                        "image/png": "[encoded data removed]",
                        "text/plain": [
                            "<Figure size 1000x600 with 1 Axes>"
                        ]
                    },
                    "metadata": {},
                    "output_type": "display_data"
                },
                {
                    "name": "stdout",
                    "output_type": "stream",
                    "text": [
                        "\n",
                        "📊 Quick stats:\n",
                        "Average tip percentage: 19.1%\n",
                        "Most generous tip: $3.90 (on $21.31 order)\n",
                        "Most modest tip: $0.94 (on $5.86 order)\n"
                    ]
                }
            ],
            "source": [
                "rng = np.random.default_rng(42)  # Create a random number generator\n",
                "\n",
                "# Set style for prettier plots\n",
                "plt.style.use(\"seaborn-v0_8\")\n",
                "\n",
                "# Simulate realistic coffee shop data\n",
                "n_customers = 50\n",
                "\n",
                "# True relationship: people generally tip ~15% plus a small base amount\n",
                "true_tip_rate = 0.15  # 15% of order total\n",
                "true_base_tip = 0.50  # $0.50 base tip regardless of order size\n",
                "tip_noise_std = 0.30  # Some randomness in tipping behavior\n",
                "\n",
                "# Generate realistic order totals ($3 to $25)\n",
                "order_totals = rng.uniform(3, 25, n_customers)\n",
                "order_totals = np.sort(order_totals)  # Sort for nicer visualization\n",
                "\n",
                "# Generate corresponding tip amounts with realistic noise\n",
                "true_tips = true_tip_rate * order_totals + true_base_tip\n",
                "tip_noise = rng.normal(0, tip_noise_std, n_customers)\n",
                "observed_tips = np.maximum(0, true_tips + tip_noise)  # Tips can't be negative\n",
                "\n",
                "print(\"☕ COFFEE SHOP TIPPING ANALYSIS\")\n",
                "print(f\"True relationship: Tip = ${true_base_tip:.2f} + {true_tip_rate:.1%} × Order Total\")\n",
                "print(f\"We collected data from {n_customers} customers\")\n",
                "print(f\"Order range: ${order_totals.min():.2f} - ${order_totals.max():.2f}\")\n",
                "print(f\"Tip range: ${observed_tips.min():.2f} - ${observed_tips.max():.2f}\")\n",
                "\n",
                "# Plot the coffee shop data\n",
                "plt.figure(figsize=(10, 6))\n",
                "plt.scatter(\n",
                "    order_totals,\n",
                "    observed_tips,\n",
                "    alpha=0.7,\n",
                "    color=\"saddlebrown\",\n",
                "    s=60,\n",
                "    edgecolor=\"white\",\n",
                "    linewidth=0.5,\n",
                "    label=\"Customer tips\",\n",
                ")\n",
                "plt.plot(\n",
                "    order_totals,\n",
                "    true_tips,\n",
                "    \"r--\",\n",
                "    linewidth=2,\n",
                "    label=f\"True relationship (${true_base_tip:.2f} + {true_tip_rate:.1%} × order)\",\n",
                ")\n",
                "plt.xlabel(\"Order Total ($)\")\n",
                "plt.ylabel(\"Tip Amount ($)\")\n",
                "plt.title(\"☕ Order Size vs Tips\")\n",
                "plt.legend()\n",
                "plt.grid(True, alpha=0.3)\n",
                "plt.show()\n",
                "\n",
                "# Quick stats for context\n",
                "avg_tip_percent = np.mean(observed_tips / order_totals) * 100\n",
                "print(\"\\n📊 Quick stats:\")\n",
                "print(f\"Average tip percentage: {avg_tip_percent:.1f}%\")\n",
                "print(\n",
                "    f\"Most generous tip: ${observed_tips.max():.2f} (on ${order_totals[np.argmax(observed_tips)]:.2f} order)\"\n",
                ")\n",
                "print(\n",
                "    f\"Most modest tip: ${observed_tips.min():.2f} (on ${order_totals[np.argmin(observed_tips)]:.2f} order)\"\n",
                ")"
            ]
        },
        {
            "cell_type": "markdown",
            "id": "18e08c2d",
            "metadata": {},
            "source": [
                ":::{important}\n",
                "Zoals te zien is in de visualisatie, is er geen oplossing voor $\\pmb{b} = [b_1, b_2]^T$ die door alle punten loopt. Dit komt uiteraard door de aanwezigheid van de additieve error vector $\\pmb{e} \\neq \\pmb{0}$ in de simulatie. Mocht $\\pmb{e} = \\pmb{0}$ zijn, reduceert de lineaire regressie vergelijking tot $\\pmb{y} = \\pmb{X}\\pmb{b}$. Alle punten vallen dan op éénzelfde lijn en we vinden, zoals reeds gezien, de oplossing aan de hand van de matrix-inverse van $\\pmb{X}$:\n",
                "\n",
                "$$\n",
                "\\pmb{b} = \\pmb{X}^{-1}\\pmb{y}\n",
                "$$\n",
                "\n",
                "Deze oplossing is hier _niet_ aan de orde omdat het lineaire regressie model veronderstelt dat $\\pmb{e} \\neq \\pmb{0}$.\n",
                ":::"
            ]
        },
        {
            "cell_type": "markdown",
            "id": "1a3b90bd",
            "metadata": {},
            "source": [
                "## _Loss_ functie: $SSE$\n",
                "\n",
                ":::{note} Definitie\n",
                ":class: dropdown\n",
                "De _Loss_ functie is de wiskundige functie die de _sub-optimaliteit_ uitdrukt van parameterschattingen in een bepaalde context. Het doel van het optimalisatie-algorithme is om de output van die functie te _minimaliseren_.[^ml_principles]\n",
                "\n",
                ":::\n",
                "\n",
                "Om het leeralgoritme sturen, kiezen we hier voor de **_Sum of Squared Errors ($SSE$)_** functie[^ml_principles]:\n",
                "\n",
                "$$\n",
                "J_{SSE}(f(\\pmb{x}); \\pmb{y}) = \\sum_{i=1}^M(y_i-f(x_i))^2\n",
                "$$\n",
                "\n",
                "waarbij\n",
                "\n",
                "$$\n",
                "f(\\pmb{x}) = \\pmb{X}\\pmb{b} = \\hat{\\pmb{y}}\n",
                "$$\n",
                "\n",
                "De vector $\\pmb{y}$-hoedje ($\\hat{\\pmb{y}}$) staat voor onze _voorspelde waarden_ voor de eigenlijke fooien $\\pmb{y}$ _op basis van onze schattingen_ voor de parameter $b_1$, $b_2$ (de argumenten van de _functie_ $f(\\pmb{x})$) op een bepaald moment in het leerproces.\n",
                "\n",
                ":::{note} _Squared_ $L^2$ _loss_\n",
                "Merk op dat we de SSE _loss_ kunnen schrijven als:\n",
                "\n",
                "$$\n",
                "\\begin{align}\n",
                "J_{SSE}(f(\\pmb{x}); \\pmb{y}) &= \\sum_{i=1}^M(y_i-\\hat{y_i})^2 \\cr\n",
                "&= \\sum_{i=1}^M(y_i-\\hat{y_i})(y_i-\\hat{y_i})\n",
                "\\end{align}\n",
                "$$\n",
                "\n",
                "als we het verschil tussen _geobserveerde_ fooi en _geschatte_ fooi $(y_i-\\hat{y_i})$ aanduiden met $\\pmb{d_i}$, krijgen we:\n",
                "\n",
                "$$\n",
                "\\begin{align}\n",
                "J_{SSE}(f(\\pmb{x}); \\pmb{y}) &= \\sum_{i=1}^Md_id_i \\cr\n",
                "&= \\pmb{d}^T\\pmb{d}\n",
                "\\end{align}\n",
                "$$\n",
                "\n",
                "Terugkijkend naar de definitie van de Euclidische norm ($L^2$; $||\\pmb{a}||_2 = \\sqrt{\\pmb{a}^T\\pmb{a}}$), volgt dat de $SSE$ _loss_ overeenkomt met het _kwadraat_ van de $L^2$ norm van de vector van verschillen $\\pmb{d}$ tussen geobserveerde waarden $\\pmb{y}$ en geschatte waarden $\\hat{\\pmb{y}}$. \n",
                ":::\n",
                "\n",
                "**De bedoeling van het _leeralgoritme_ is dus om op zoek te gaan naar waarden voor de model parameters $\\pmb{b}$ die de $SSE$ _loss_ _minimaliseren_**.\n",
                "\n",
                "[^ml_principles]: Zoals gezien in de cursus _ML Principles_"
            ]
        },
        {
            "cell_type": "code",
            "execution_count": null,
            "id": "38bf6bd3",
            "metadata": {},
            "outputs": [
                {
                    "data": {
                        "image/png": "[encoded data removed]",
                        "text/plain": [
                            "<Figure size 1000x600 with 1 Axes>"
                        ]
                    },
                    "metadata": {},
                    "output_type": "display_data"
                },
                {
                    "name": "stdout",
                    "output_type": "stream",
                    "text": [
                        "📊 SSE Loss with guessed parameters (b1=$1.50, b2=0.1): 27.65\n"
                    ]
                }
            ],
            "source": [
                "# Define the guessed parameters\n",
                "b1_guess = 1.5  # Base tip guess\n",
                "b2_guess = 0.05  # Tip rate guess\n",
                "\n",
                "# Calculate predicted values using the guessed parameters\n",
                "predicted_tips = b1_guess + b2_guess * order_totals\n",
                "\n",
                "# Calculate the SSE loss for these parameters\n",
                "guess_loss = calculate_loss(b1_guess, b2_guess, order_totals, observed_tips)\n",
                "\n",
                "# Create the visualization\n",
                "plt.figure(figsize=(10, 6))\n",
                "\n",
                "# Plot the observed data points\n",
                "plt.scatter(\n",
                "    order_totals,\n",
                "    observed_tips,\n",
                "    alpha=0.7,\n",
                "    color=\"saddlebrown\",\n",
                "    s=60,\n",
                "    edgecolor=\"white\",\n",
                "    linewidth=0.5,\n",
                "    label=\"Customer tips\",\n",
                ")\n",
                "\n",
                "# Plot true relationship\n",
                "plt.plot(\n",
                "    order_totals,\n",
                "    true_tips,\n",
                "    \"r--\",\n",
                "    linewidth=2,\n",
                "    label=f\"True relationship (${true_base_tip:.2f} + {true_tip_rate:.1%} × order)\",\n",
                ")\n",
                "\n",
                "# Plot the guessed relationship line (green)\n",
                "plt.plot(\n",
                "    order_totals,\n",
                "    predicted_tips,\n",
                "    \"g-\",\n",
                "    linewidth=2,\n",
                "    label=f\"Guessed relationship (${b1_guess:.2f} + {b2_guess:.1f} × order)\",\n",
                ")\n",
                "\n",
                "# Add error lines from each point to the green line\n",
                "for i in range(len(order_totals)):\n",
                "    plt.plot(\n",
                "        [order_totals[i], order_totals[i]],\n",
                "        [observed_tips[i], predicted_tips[i]],\n",
                "        \"r--\",\n",
                "        alpha=0.6,\n",
                "        linewidth=1,\n",
                "    )\n",
                "\n",
                "# Formatting\n",
                "plt.xlabel(\"Order Total ($)\")\n",
                "plt.ylabel(\"Tip Amount ($)\")\n",
                "plt.title(\"☕ Order Size vs Tips - Showing Prediction Errors\")\n",
                "plt.legend()\n",
                "plt.grid(True, alpha=0.3)\n",
                "plt.show()\n",
                "\n",
                "# Print the loss value\n",
                "print(\n",
                "    f\"📊 SSE Loss with guessed parameters (b1=${b1_guess:.2f}, b2={b2_guess:.1f}): {guess_loss:.2f}\"\n",
                ")"
            ]
        },
        {
            "cell_type": "code",
            "execution_count": 3,
            "id": "db918135",
            "metadata": {},
            "outputs": [
                {
                    "name": "stdout",
                    "output_type": "stream",
                    "text": [
                        "💡 Loss with TRUE relationship: 2.71\n",
                        "❌ Loss with wrong guess #1 (10% + $1.00 base): 7.66\n",
                        "❌ Loss with wrong guess #2 (20% + $0.00 base): 12.80\n"
                    ]
                }
            ],
            "source": [
                "def calculate_loss(b1, b2, x, y):\n",
                "    \"\"\"\n",
                "    Calculate how badly our guessed relationship predicts actual tips.\n",
                "\n",
                "    Parameters\n",
                "    ----------\n",
                "    b1 : float\n",
                "        The base tip amount in dollars\n",
                "    b2 : float\n",
                "        The percentage rate (e.g., 0.15 for 15%)\n",
                "    x : array\n",
                "        Customer order amounts\n",
                "    y : array\n",
                "        Actual tips customers left\n",
                "\n",
                "    Returns\n",
                "    -------\n",
                "    float : sum of squared prediction errors (lower = better)\n",
                "    \"\"\"\n",
                "    y_hat = b1 + b2 * x\n",
                "    d = y - y_hat\n",
                "    loss = np.sum(d**2)  # Sum of squared errors\n",
                "    return loss\n",
                "\n",
                "\n",
                "# Test our loss function with the true parameters\n",
                "true_loss = calculate_loss(true_base_tip, true_tip_rate, order_totals, observed_tips)\n",
                "print(f\"💡 Loss with TRUE relationship: {true_loss:.2f}\")\n",
                "\n",
                "# Test with some wrong guesses to see higher loss\n",
                "wrong_loss_1 = calculate_loss(1.0, 0.10, order_totals, observed_tips)  # 10% + $1 base\n",
                "wrong_loss_2 = calculate_loss(0.0, 0.20, order_totals, observed_tips)  # 20% + no base\n",
                "print(f\"❌ Loss with wrong guess #1 (10% + $1.00 base): {wrong_loss_1:.2f}\")\n",
                "print(f\"❌ Loss with wrong guess #2 (20% + $0.00 base): {wrong_loss_2:.2f}\")"
            ]
        },
        {
            "cell_type": "markdown",
            "id": "9d940407",
            "metadata": {},
            "source": [
                "## Visualisatie van het $SSE$ oppervlak\n",
                "\n",
                "We kunnen in deze éénvoudige simulatie met 2 parameters ($b_1$ en $b_2$), de $SSE$ _loss_ functie voorstellen als een 3D oppervlak: $\\{x: b_1, y: b_2, z: SSE\\}$. We maken:\n",
                "1. een _grid_ van $(b_1, b_2)$ coördinaten $(x, y)$,\n",
                "2. berekenen de overeenkomstige $SSE$ (als $z$-coördinaat) en\n",
                "3. gebruiken Plotly om de resulterende 3D coördinaten als een oppervlak af te beelden."
            ]
        },
        {
            "cell_type": "code",
            "execution_count": 4,
            "id": "748b6656",
            "metadata": {},
            "outputs": [
                {
                    "data": {
                        "application/vnd.plotly.v1+json": {
                            "config": {
                                "plotlyServerURL": "https://plot.ly"
                            },
                            "data": [
                                {
                                    "colorbar": {
                                        "title": {
                                            "text": "SSE"
                                        },
                                        "x": -0.2
                                    },
                                    "colorscale": [
                                        [
                                            0,
                                            "rgb(5,48,97)"
                                        ],
                                        [
                                            0.1,
                                            "rgb(33,102,172)"
                                        ],
                                        [
                                            0.2,
                                            "rgb(67,147,195)"
                                        ],
                                        [
                                            0.3,
                                            "rgb(146,197,222)"
                                        ],
                                        [
                                            0.4,
                                            "rgb(209,229,240)"
                                        ],
                                        [
                                            0.5,
                                            "rgb(247,247,247)"
                                        ],
                                        [
                                            0.6,
                                            "rgb(253,219,199)"
                                        ],
                                        [
                                            0.7,
                                            "rgb(244,165,130)"
                                        ],
                                        [
                                            0.8,
                                            "rgb(214,96,77)"
                                        ],
                                        [
                                            0.9,
                                            "rgb(178,24,43)"
                                        ],
                                        [
                                            1,
                                            "rgb(103,0,31)"
                                        ]
                                    ],
                                    "contours": {
                                        "z": {
                                            "highlightcolor": "limegreen",
                                            "project": {
                                                "z": true
                                            },
                                            "show": true,
                                            "usecolormap": true
                                        }
                                    },
                                    "hovertemplate": "<b>Parameters:</b><br>bias: %{x:.3f}<br>slope: %{y:.3f}<br>SSE: %{z:.3f}<br><extra></extra>",
                                    "name": "SSE Surface",
                                    "showscale": true,
                                    "type": "surface",
                                    "x": {
                                        "bdata": "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",
                                        "dtype": "f8",
                                        "shape": "40, 40"
                                    },
                                    "y": {
                                        "bdata": "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",
                                        "dtype": "f8",
                                        "shape": "40, 40"
                                    },
                                    "z": {
                                        "bdata": "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",
                                        "dtype": "f8",
                                        "shape": "40, 40"
                                    }
                                },
                                {
                                    "hovertemplate": "<b>True Minimum:</b><br>bias: %{x:.3f}<br>slope: %{y:.3f}<br>SSE: %{z:.3f}<br><extra></extra>",
                                    "marker": {
                                        "color": "gold",
                                        "line": {
                                            "color": "black",
                                            "width": 2
                                        },
                                        "size": 10,
                                        "symbol": "diamond"
                                    },
                                    "mode": "markers",
                                    "name": "True Minimum",
                                    "type": "scatter3d",
                                    "x": [
                                        0.5
                                    ],
                                    "y": [
                                        0.15
                                    ],
                                    "z": [
                                        2.710780844546495
                                    ]
                                },
                                {
                                    "hovertemplate": "<b>Surface Minimum:</b><br>bias: %{x:.3f}<br>slope: %{y:.3f}<br>SSE: %{z:.3f}<br><extra></extra>",
                                    "marker": {
                                        "color": "limegreen",
                                        "line": {
                                            "color": "black",
                                            "width": 2
                                        },
                                        "size": 10,
                                        "symbol": "diamond"
                                    },
                                    "mode": "markers",
                                    "name": "Surface Minimum",
                                    "type": "scatter3d",
                                    "x": [
                                        0.6153846153846154
                                    ],
                                    "y": [
                                        0.13846153846153847
                                    ],
                                    "z": [
                                        2.5174392775190784
                                    ]
                                }
                            ],
                            "layout": {
                                "height": 600,
                                "margin": {
                                    "b": 0,
                                    "l": 80,
                                    "r": 0,
                                    "t": 40
                                },
                                "scene": {
                                    "camera": {
                                        "eye": {
                                            "x": 1.5,
                                            "y": 1.5,
                                            "z": 1.5
                                        }
                                    },
                                    "xaxis": {
                                        "title": {
                                            "text": "bias"
                                        }
                                    },
                                    "yaxis": {
                                        "title": {
                                            "text": "slope"
                                        }
                                    },
                                    "zaxis": {
                                        "title": {
                                            "text": "SSE"
                                        }
                                    }
                                },
                                "template": {
                                    "data": {
                                        "bar": [
                                            {
                                                "error_x": {
                                                    "color": "#2a3f5f"
                                                },
                                                "error_y": {
                                                    "color": "#2a3f5f"
                                                },
                                                "marker": {
                                                    "line": {
                                                        "color": "#E5ECF6",
                                                        "width": 0.5
                                                    },
                                                    "pattern": {
                                                        "fillmode": "overlay",
                                                        "size": 10,
                                                        "solidity": 0.2
                                                    }
                                                },
                                                "type": "bar"
                                            }
                                        ],
                                        "barpolar": [
                                            {
                                                "marker": {
                                                    "line": {
                                                        "color": "#E5ECF6",
                                                        "width": 0.5
                                                    },
                                                    "pattern": {
                                                        "fillmode": "overlay",
                                                        "size": 10,
                                                        "solidity": 0.2
                                                    }
                                                },
                                                "type": "barpolar"
                                            }
                                        ],
                                        "carpet": [
                                            {
                                                "aaxis": {
                                                    "endlinecolor": "#2a3f5f",
                                                    "gridcolor": "white",
                                                    "linecolor": "white",
                                                    "minorgridcolor": "white",
                                                    "startlinecolor": "#2a3f5f"
                                                },
                                                "baxis": {
                                                    "endlinecolor": "#2a3f5f",
                                                    "gridcolor": "white",
                                                    "linecolor": "white",
                                                    "minorgridcolor": "white",
                                                    "startlinecolor": "#2a3f5f"
                                                },
                                                "type": "carpet"
                                            }
                                        ],
                                        "choropleth": [
                                            {
                                                "colorbar": {
                                                    "outlinewidth": 0,
                                                    "ticks": ""
                                                },
                                                "type": "choropleth"
                                            }
                                        ],
                                        "contour": [
                                            {
                                                "colorbar": {
                                                    "outlinewidth": 0,
                                                    "ticks": ""
                                                },
                                                "colorscale": [
                                                    [
                                                        0,
                                                        "#0d0887"
                                                    ],
                                                    [
                                                        0.1111111111111111,
                                                        "#46039f"
                                                    ],
                                                    [
                                                        0.2222222222222222,
                                                        "#7201a8"
                                                    ],
                                                    [
                                                        0.3333333333333333,
                                                        "#9c179e"
                                                    ],
                                                    [
                                                        0.4444444444444444,
                                                        "#bd3786"
                                                    ],
                                                    [
                                                        0.5555555555555556,
                                                        "#d8576b"
                                                    ],
                                                    [
                                                        0.6666666666666666,
                                                        "#ed7953"
                                                    ],
                                                    [
                                                        0.7777777777777778,
                                                        "#fb9f3a"
                                                    ],
                                                    [
                                                        0.8888888888888888,
                                                        "#fdca26"
                                                    ],
                                                    [
                                                        1,
                                                        "#f0f921"
                                                    ]
                                                ],
                                                "type": "contour"
                                            }
                                        ],
                                        "contourcarpet": [
                                            {
                                                "colorbar": {
                                                    "outlinewidth": 0,
                                                    "ticks": ""
                                                },
                                                "type": "contourcarpet"
                                            }
                                        ],
                                        "heatmap": [
                                            {
                                                "colorbar": {
                                                    "outlinewidth": 0,
                                                    "ticks": ""
                                                },
                                                "colorscale": [
                                                    [
                                                        0,
                                                        "#0d0887"
                                                    ],
                                                    [
                                                        0.1111111111111111,
                                                        "#46039f"
                                                    ],
                                                    [
                                                        0.2222222222222222,
                                                        "#7201a8"
                                                    ],
                                                    [
                                                        0.3333333333333333,
                                                        "#9c179e"
                                                    ],
                                                    [
                                                        0.4444444444444444,
                                                        "#bd3786"
                                                    ],
                                                    [
                                                        0.5555555555555556,
                                                        "#d8576b"
                                                    ],
                                                    [
                                                        0.6666666666666666,
                                                        "#ed7953"
                                                    ],
                                                    [
                                                        0.7777777777777778,
                                                        "#fb9f3a"
                                                    ],
                                                    [
                                                        0.8888888888888888,
                                                        "#fdca26"
                                                    ],
                                                    [
                                                        1,
                                                        "#f0f921"
                                                    ]
                                                ],
                                                "type": "heatmap"
                                            }
                                        ],
                                        "histogram": [
                                            {
                                                "marker": {
                                                    "pattern": {
                                                        "fillmode": "overlay",
                                                        "size": 10,
                                                        "solidity": 0.2
                                                    }
                                                },
                                                "type": "histogram"
                                            }
                                        ],
                                        "histogram2d": [
                                            {
                                                "colorbar": {
                                                    "outlinewidth": 0,
                                                    "ticks": ""
                                                },
                                                "colorscale": [
                                                    [
                                                        0,
                                                        "#0d0887"
                                                    ],
                                                    [
                                                        0.1111111111111111,
                                                        "#46039f"
                                                    ],
                                                    [
                                                        0.2222222222222222,
                                                        "#7201a8"
                                                    ],
                                                    [
                                                        0.3333333333333333,
                                                        "#9c179e"
                                                    ],
                                                    [
                                                        0.4444444444444444,
                                                        "#bd3786"
                                                    ],
                                                    [
                                                        0.5555555555555556,
                                                        "#d8576b"
                                                    ],
                                                    [
                                                        0.6666666666666666,
                                                        "#ed7953"
                                                    ],
                                                    [
                                                        0.7777777777777778,
                                                        "#fb9f3a"
                                                    ],
                                                    [
                                                        0.8888888888888888,
                                                        "#fdca26"
                                                    ],
                                                    [
                                                        1,
                                                        "#f0f921"
                                                    ]
                                                ],
                                                "type": "histogram2d"
                                            }
                                        ],
                                        "histogram2dcontour": [
                                            {
                                                "colorbar": {
                                                    "outlinewidth": 0,
                                                    "ticks": ""
                                                },
                                                "colorscale": [
                                                    [
                                                        0,
                                                        "#0d0887"
                                                    ],
                                                    [
                                                        0.1111111111111111,
                                                        "#46039f"
                                                    ],
                                                    [
                                                        0.2222222222222222,
                                                        "#7201a8"
                                                    ],
                                                    [
                                                        0.3333333333333333,
                                                        "#9c179e"
                                                    ],
                                                    [
                                                        0.4444444444444444,
                                                        "#bd3786"
                                                    ],
                                                    [
                                                        0.5555555555555556,
                                                        "#d8576b"
                                                    ],
                                                    [
                                                        0.6666666666666666,
                                                        "#ed7953"
                                                    ],
                                                    [
                                                        0.7777777777777778,
                                                        "#fb9f3a"
                                                    ],
                                                    [
                                                        0.8888888888888888,
                                                        "#fdca26"
                                                    ],
                                                    [
                                                        1,
                                                        "#f0f921"
                                                    ]
                                                ],
                                                "type": "histogram2dcontour"
                                            }
                                        ],
                                        "mesh3d": [
                                            {
                                                "colorbar": {
                                                    "outlinewidth": 0,
                                                    "ticks": ""
                                                },
                                                "type": "mesh3d"
                                            }
                                        ],
                                        "parcoords": [
                                            {
                                                "line": {
                                                    "colorbar": {
                                                        "outlinewidth": 0,
                                                        "ticks": ""
                                                    }
                                                },
                                                "type": "parcoords"
                                            }
                                        ],
                                        "pie": [
                                            {
                                                "automargin": true,
                                                "type": "pie"
                                            }
                                        ],
                                        "scatter": [
                                            {
                                                "fillpattern": {
                                                    "fillmode": "overlay",
                                                    "size": 10,
                                                    "solidity": 0.2
                                                },
                                                "type": "scatter"
                                            }
                                        ],
                                        "scatter3d": [
                                            {
                                                "line": {
                                                    "colorbar": {
                                                        "outlinewidth": 0,
                                                        "ticks": ""
                                                    }
                                                },
                                                "marker": {
                                                    "colorbar": {
                                                        "outlinewidth": 0,
                                                        "ticks": ""
                                                    }
                                                },
                                                "type": "scatter3d"
                                            }
                                        ],
                                        "scattercarpet": [
                                            {
                                                "marker": {
                                                    "colorbar": {
                                                        "outlinewidth": 0,
                                                        "ticks": ""
                                                    }
                                                },
                                                "type": "scattercarpet"
                                            }
                                        ],
                                        "scattergeo": [
                                            {
                                                "marker": {
                                                    "colorbar": {
                                                        "outlinewidth": 0,
                                                        "ticks": ""
                                                    }
                                                },
                                                "type": "scattergeo"
                                            }
                                        ],
                                        "scattergl": [
                                            {
                                                "marker": {
                                                    "colorbar": {
                                                        "outlinewidth": 0,
                                                        "ticks": ""
                                                    }
                                                },
                                                "type": "scattergl"
                                            }
                                        ],
                                        "scattermap": [
                                            {
                                                "marker": {
                                                    "colorbar": {
                                                        "outlinewidth": 0,
                                                        "ticks": ""
                                                    }
                                                },
                                                "type": "scattermap"
                                            }
                                        ],
                                        "scattermapbox": [
                                            {
                                                "marker": {
                                                    "colorbar": {
                                                        "outlinewidth": 0,
                                                        "ticks": ""
                                                    }
                                                },
                                                "type": "scattermapbox"
                                            }
                                        ],
                                        "scatterpolar": [
                                            {
                                                "marker": {
                                                    "colorbar": {
                                                        "outlinewidth": 0,
                                                        "ticks": ""
                                                    }
                                                },
                                                "type": "scatterpolar"
                                            }
                                        ],
                                        "scatterpolargl": [
                                            {
                                                "marker": {
                                                    "colorbar": {
                                                        "outlinewidth": 0,
                                                        "ticks": ""
                                                    }
                                                },
                                                "type": "scatterpolargl"
                                            }
                                        ],
                                        "scatterternary": [
                                            {
                                                "marker": {
                                                    "colorbar": {
                                                        "outlinewidth": 0,
                                                        "ticks": ""
                                                    }
                                                },
                                                "type": "scatterternary"
                                            }
                                        ],
                                        "surface": [
                                            {
                                                "colorbar": {
                                                    "outlinewidth": 0,
                                                    "ticks": ""
                                                },
                                                "colorscale": [
                                                    [
                                                        0,
                                                        "#0d0887"
                                                    ],
                                                    [
                                                        0.1111111111111111,
                                                        "#46039f"
                                                    ],
                                                    [
                                                        0.2222222222222222,
                                                        "#7201a8"
                                                    ],
                                                    [
                                                        0.3333333333333333,
                                                        "#9c179e"
                                                    ],
                                                    [
                                                        0.4444444444444444,
                                                        "#bd3786"
                                                    ],
                                                    [
                                                        0.5555555555555556,
                                                        "#d8576b"
                                                    ],
                                                    [
                                                        0.6666666666666666,
                                                        "#ed7953"
                                                    ],
                                                    [
                                                        0.7777777777777778,
                                                        "#fb9f3a"
                                                    ],
                                                    [
                                                        0.8888888888888888,
                                                        "#fdca26"
                                                    ],
                                                    [
                                                        1,
                                                        "#f0f921"
                                                    ]
                                                ],
                                                "type": "surface"
                                            }
                                        ],
                                        "table": [
                                            {
                                                "cells": {
                                                    "fill": {
                                                        "color": "#EBF0F8"
                                                    },
                                                    "line": {
                                                        "color": "white"
                                                    }
                                                },
                                                "header": {
                                                    "fill": {
                                                        "color": "#C8D4E3"
                                                    },
                                                    "line": {
                                                        "color": "white"
                                                    }
                                                },
                                                "type": "table"
                                            }
                                        ]
                                    },
                                    "layout": {
                                        "annotationdefaults": {
                                            "arrowcolor": "#2a3f5f",
                                            "arrowhead": 0,
                                            "arrowwidth": 1
                                        },
                                        "autotypenumbers": "strict",
                                        "coloraxis": {
                                            "colorbar": {
                                                "outlinewidth": 0,
                                                "ticks": ""
                                            }
                                        },
                                        "colorscale": {
                                            "diverging": [
                                                [
                                                    0,
                                                    "#8e0152"
                                                ],
                                                [
                                                    0.1,
                                                    "#c51b7d"
                                                ],
                                                [
                                                    0.2,
                                                    "#de77ae"
                                                ],
                                                [
                                                    0.3,
                                                    "#f1b6da"
                                                ],
                                                [
                                                    0.4,
                                                    "#fde0ef"
                                                ],
                                                [
                                                    0.5,
                                                    "#f7f7f7"
                                                ],
                                                [
                                                    0.6,
                                                    "#e6f5d0"
                                                ],
                                                [
                                                    0.7,
                                                    "#b8e186"
                                                ],
                                                [
                                                    0.8,
                                                    "#7fbc41"
                                                ],
                                                [
                                                    0.9,
                                                    "#4d9221"
                                                ],
                                                [
                                                    1,
                                                    "#276419"
                                                ]
                                            ],
                                            "sequential": [
                                                [
                                                    0,
                                                    "#0d0887"
                                                ],
                                                [
                                                    0.1111111111111111,
                                                    "#46039f"
                                                ],
                                                [
                                                    0.2222222222222222,
                                                    "#7201a8"
                                                ],
                                                [
                                                    0.3333333333333333,
                                                    "#9c179e"
                                                ],
                                                [
                                                    0.4444444444444444,
                                                    "#bd3786"
                                                ],
                                                [
                                                    0.5555555555555556,
                                                    "#d8576b"
                                                ],
                                                [
                                                    0.6666666666666666,
                                                    "#ed7953"
                                                ],
                                                [
                                                    0.7777777777777778,
                                                    "#fb9f3a"
                                                ],
                                                [
                                                    0.8888888888888888,
                                                    "#fdca26"
                                                ],
                                                [
                                                    1,
                                                    "#f0f921"
                                                ]
                                            ],
                                            "sequentialminus": [
                                                [
                                                    0,
                                                    "#0d0887"
                                                ],
                                                [
                                                    0.1111111111111111,
                                                    "#46039f"
                                                ],
                                                [
                                                    0.2222222222222222,
                                                    "#7201a8"
                                                ],
                                                [
                                                    0.3333333333333333,
                                                    "#9c179e"
                                                ],
                                                [
                                                    0.4444444444444444,
                                                    "#bd3786"
                                                ],
                                                [
                                                    0.5555555555555556,
                                                    "#d8576b"
                                                ],
                                                [
                                                    0.6666666666666666,
                                                    "#ed7953"
                                                ],
                                                [
                                                    0.7777777777777778,
                                                    "#fb9f3a"
                                                ],
                                                [
                                                    0.8888888888888888,
                                                    "#fdca26"
                                                ],
                                                [
                                                    1,
                                                    "#f0f921"
                                                ]
                                            ]
                                        },
                                        "colorway": [
                                            "#636efa",
                                            "#EF553B",
                                            "#00cc96",
                                            "#ab63fa",
                                            "#FFA15A",
                                            "#19d3f3",
                                            "#FF6692",
                                            "#B6E880",
                                            "#FF97FF",
                                            "#FECB52"
                                        ],
                                        "font": {
                                            "color": "#2a3f5f"
                                        },
                                        "geo": {
                                            "bgcolor": "white",
                                            "lakecolor": "white",
                                            "landcolor": "#E5ECF6",
                                            "showlakes": true,
                                            "showland": true,
                                            "subunitcolor": "white"
                                        },
                                        "hoverlabel": {
                                            "align": "left"
                                        },
                                        "hovermode": "closest",
                                        "mapbox": {
                                            "style": "light"
                                        },
                                        "paper_bgcolor": "white",
                                        "plot_bgcolor": "#E5ECF6",
                                        "polar": {
                                            "angularaxis": {
                                                "gridcolor": "white",
                                                "linecolor": "white",
                                                "ticks": ""
                                            },
                                            "bgcolor": "#E5ECF6",
                                            "radialaxis": {
                                                "gridcolor": "white",
                                                "linecolor": "white",
                                                "ticks": ""
                                            }
                                        },
                                        "scene": {
                                            "xaxis": {
                                                "backgroundcolor": "#E5ECF6",
                                                "gridcolor": "white",
                                                "gridwidth": 2,
                                                "linecolor": "white",
                                                "showbackground": true,
                                                "ticks": "",
                                                "zerolinecolor": "white"
                                            },
                                            "yaxis": {
                                                "backgroundcolor": "#E5ECF6",
                                                "gridcolor": "white",
                                                "gridwidth": 2,
                                                "linecolor": "white",
                                                "showbackground": true,
                                                "ticks": "",
                                                "zerolinecolor": "white"
                                            },
                                            "zaxis": {
                                                "backgroundcolor": "#E5ECF6",
                                                "gridcolor": "white",
                                                "gridwidth": 2,
                                                "linecolor": "white",
                                                "showbackground": true,
                                                "ticks": "",
                                                "zerolinecolor": "white"
                                            }
                                        },
                                        "shapedefaults": {
                                            "line": {
                                                "color": "#2a3f5f"
                                            }
                                        },
                                        "ternary": {
                                            "aaxis": {
                                                "gridcolor": "white",
                                                "linecolor": "white",
                                                "ticks": ""
                                            },
                                            "baxis": {
                                                "gridcolor": "white",
                                                "linecolor": "white",
                                                "ticks": ""
                                            },
                                            "bgcolor": "#E5ECF6",
                                            "caxis": {
                                                "gridcolor": "white",
                                                "linecolor": "white",
                                                "ticks": ""
                                            }
                                        },
                                        "title": {
                                            "x": 0.05
                                        },
                                        "xaxis": {
                                            "automargin": true,
                                            "gridcolor": "white",
                                            "linecolor": "white",
                                            "ticks": "",
                                            "title": {
                                                "standoff": 15
                                            },
                                            "zerolinecolor": "white",
                                            "zerolinewidth": 2
                                        },
                                        "yaxis": {
                                            "automargin": true,
                                            "gridcolor": "white",
                                            "linecolor": "white",
                                            "ticks": "",
                                            "title": {
                                                "standoff": 15
                                            },
                                            "zerolinecolor": "white",
                                            "zerolinewidth": 2
                                        }
                                    }
                                },
                                "title": {
                                    "font": {
                                        "size": 16
                                    },
                                    "text": "Linear Regression SSE Surface",
                                    "x": 0.5
                                },
                                "width": 800
                            }
                        }
                    },
                    "metadata": {},
                    "output_type": "display_data"
                }
            ],
            "source": [
                "from ml_courses.sim.linear_regression_sse_viz import LinearRegressionSSEVisualizer\n",
                "\n",
                "viz = LinearRegressionSSEVisualizer(\n",
                "    x_data=order_totals, y_data=observed_tips, true_bias=true_base_tip, true_slope=true_tip_rate\n",
                ")\n",
                "\n",
                "fig = viz.create_3d_surface_plot(resolution=40)\n",
                "fig.show()"
            ]
        },
        {
            "cell_type": "markdown",
            "id": "1184e34c",
            "metadata": {},
            "source": [
                "## _Grid parameter search_\n",
                "In de visualisatie is het coördinaat waar de $SSE$ het kleinst is in het groen aangeduid. Als je met de muis over het oppervlak beweegt, kan je zien dat de $SSE$ langs alle zijden van dit punt oploopt. Er is **één absoluut minimum en geen _lokale minima_**: er wordt gezegd dat de $SSE$ _loss_ functie **_convex_** is dit geval. Het minimum komt hier overeen met $b_1 = 0.615$ en $b_2 = 0.138$. Dit ligt in de buurt van onze simulatie parameters ($b_1 = 0.50$, $b_2 = 0.15$). De enige afwijking is te wijten aan onze keuze van _spacing_ in het _grid_. Deze _brute force_ **methode om aan de hand van een $N$D _parameter grid_ het minimum van de _loss_ functie te zoeken** is op zich een leeralgoritme en wordt **grid search** genoemd.  \n",
                "### Voordeel\n",
                "Geen complexe wiskunde nodig.\n",
                "### Nadeel\n",
                "We weten normaal niet op voorhand in welke _range_ we moeten werken voor een bepaalde parameter. Zeker wanneer het aantal parameters stijgt, wordt het snel een onmogelijke opdracht om grid search toe te passen - ook vanuit computationeel perspectief. Je komt de techniek het vaakst tegen bij _hyper parameter tuning_ als het aantal hyper parameters en mogelijke hyper parameter waarden beperkt is."
            ]
        }
    ],
    "metadata": {
        "kernelspec": {
            "display_name": "ml-courses",
            "language": "python",
            "name": "python3"
        },
        "language_info": {
            "codemirror_mode": {
                "name": "ipython",
                "version": 3
            },
            "file_extension": ".py",
            "mimetype": "text/x-python",
            "name": "python",
            "nbconvert_exporter": "python",
            "pygments_lexer": "ipython3",
            "version": "3.10.18"
        }
    },
    "nbformat": 4,
    "nbformat_minor": 5
}
