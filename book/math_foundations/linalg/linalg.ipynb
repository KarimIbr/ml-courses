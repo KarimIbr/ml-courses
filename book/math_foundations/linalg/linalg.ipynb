{
 "cells": [
  {
   "cell_type": "markdown",
   "id": "3d50960f",
   "metadata": {},
   "source": [
    "# Lineaire Algebra\n",
    "🚧"
   ]
  }
 ],
 "metadata": {
  "language_info": {
   "name": "python"
  }
 },
 "nbformat": 4,
 "nbformat_minor": 5
}
