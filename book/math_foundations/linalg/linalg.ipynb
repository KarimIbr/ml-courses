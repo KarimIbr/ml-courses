{
 "cells": [
  {
   "cell_type": "markdown",
   "id": "3d50960f",
   "metadata": {},
   "source": [
    "# Lineaire Algebra\n",
    "[^Goodfellow_et_al]\n",
    "[^Goodfellow_et_al]: Deze sectie is gebaseerd op [Goodfellow et al. (2016, 31-52)](https://www.deeplearningbook.org/front_matter.pdf).\n",
    "\n",
    "## Notatie\n",
    "We volgen doorheen de cursus de notatie conventies in [Goodfellow et al. (2016, _xi-xiv_)](https://www.deeplearningbook.org/front_matter.pdf).\n",
    "\n",
    "## Numerieke primitieven\n",
    "Numerieke waarden worden in machine learning voorgesteld als één van volgende wiskundige objecten: **scalairen**, **vectoren**, **matrices** of **tensors**.\n",
    "\n",
    "### Scalairen\n",
    "Een scalaire waarde (op simpelwel \"scalair\") is gewoon een **enkelvoudig getal** - in tegenstelling tot de andere objecten die een verzameling van meerdere getallen voorstellen.  \n",
    "  \n",
    "We zullen ze in wiskundige notatie aanduiden met schuingedrukte kleine letters, bv. $s \\in \\mathbb{R}$.\n",
    "\n",
    "Ze hebben telkens een bepaald type:  \n",
    "- natuurlijk: $\\mathbb{N} = \\{0, 1, 2, 3, ...\\}$\n",
    "- geheel: $\\mathbb{Z} = \\{..., -3, -2, -1, 0, 1, 2, 3, ...\\}$\n",
    "- rationaal: $\\mathbb{Q} = \\{..., -1.0, -0.5, 0, 0.5, 1, ...\\}$\n",
    "- reëel: $\\mathbb{R} = \\mathbb{Q} \\cup \\{\\pi, e, ...\\}$\n",
    "- enz.\n",
    "\n",
    "### Vectoren\n",
    "Een vector is een geordende reeks van getallen van éénzelfde type.  \n",
    "\n",
    "🚧"
   ]
  }
 ],
 "metadata": {
  "language_info": {
   "name": "python"
  }
 },
 "nbformat": 4,
 "nbformat_minor": 5
}
