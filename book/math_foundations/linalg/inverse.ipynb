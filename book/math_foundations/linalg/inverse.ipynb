{
 "cells": [
  {
   "cell_type": "markdown",
   "id": "d0fd4f19",
   "metadata": {},
   "source": [
    "# Matrix-inverse\n",
    "\n",
    "Matrix inversie is een sleutel tot belangrijke mogelijkheden in Machine Learning. In de vorige sectie zagen we de **identiteitsmatrix** als speciale matrix.\n",
    "Deze spelen een centrale rol in de formele definitie van de **matrix-inverse** $\\pmb{A}^{-1}$ van een matrix $\\pmb{A}$:\n",
    "$$\n",
    "\\pmb{A}^{-1}\\pmb{A} = \\pmb{I}_n\n",
    "$$"
   ]
  }
 ],
 "metadata": {
  "language_info": {
   "name": "python"
  }
 },
 "nbformat": 4,
 "nbformat_minor": 5
}
