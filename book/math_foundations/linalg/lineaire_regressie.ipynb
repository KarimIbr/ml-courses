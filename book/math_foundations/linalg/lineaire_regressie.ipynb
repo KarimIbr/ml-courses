{
 "cells": [
  {
   "cell_type": "markdown",
   "id": "185ec471",
   "metadata": {},
   "source": [
    "## Lineaire regressie\n",
    "Lineaire regressie is een centrale techniek binnen Machine Learning. Om de wiskunde van ML te begrijpen is het een absolute must om deze techniek ten volle te doorgronden.  \n",
    "  \n",
    "### Data simulatie\n",
    "We beginnen met de simulatie van een simpel patroon:\n",
    "\n"
   ]
  }
 ],
 "metadata": {
  "language_info": {
   "name": "python"
  }
 },
 "nbformat": 4,
 "nbformat_minor": 5
}
