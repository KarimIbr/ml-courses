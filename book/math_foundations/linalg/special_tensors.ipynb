{
    "cells": [
        {
            "cell_type": "markdown",
            "metadata": {},
            "source": [
                "# Speciale matrices\n",
                "\n",
                "Sommige speciale types van matrices zijn zeer bruikbaar in de context van Machine Learning."
            ]
        },
        {
            "cell_type": "markdown",
            "metadata": {},
            "source": [
                "## Vierkante matrix\n",
                "Een **vierkante matrix** is een matrix met evenveel rijen als kolommen. **Een matrix $\\pmb{V}_{m \\times n}$ is vierkant als en slechts als $m = n$**.\n",
                "Geometrisch gezien, doen ze dienst als transformatoren van vectoren, meer bepaald om die te schalen, reflecteren en/of te roteren. Welke transformatie precies gebeurt, kan afgeleid worden van de zogenaamde **determinant**.\n",
                "In het geval van een $2 \\times 2$ matrix (2D ruimte):\n",
                "$$\n",
                "\\pmb{A} = \\begin{bmatrix}\n",
                "a & b \\cr\n",
                "c & d\n",
                "\\end{bmatrix}\n",
                "$$\n",
                "wordt de determinant $det(\\pmb{A})$ bekomen door:\n",
                "$$\n",
                "det(\\pmb{A}) = ad - bc\n",
                "$$\n",
                "In het geval van een $3 \\times 3$ matrix (3D ruimte):\n",
                "$$\n",
                "\\pmb{A} = \\begin{bmatrix}\n",
                "a & b & c \\cr\n",
                "d & e & f \\cr\n",
                "g & h & i\n",
                "\\end{bmatrix}\n",
                "$$\n",
                "is de formule iets complexer:\n",
                "$$\n",
                "det(\\pmb{A}) = aei + bfg + cdh - ceg - bdi - afh\n",
                "$$\n",
                "Specifieke gevallen:\n",
                "- $det(\\pmb{A}) > 0$: Er gebeurt een schaling, maar zonder reflectie.\n",
                "- $det(\\pmb{A}) < 0$: Er gebeurt een schaling, inclusief reflectie.\n",
                "- $det(\\pmb{A}) = 1$: Afstanden en hoeken worden behouden, zonder reflectie.\n",
                "- $det(\\pmb{A}) = -1$: Afstanden en hoeken worden behouden en er gebeurt reflectie.\n",
                "- $det(\\pmb{A}) = 0$: De matrix drukt de ruimte samen naar een lagere dimensie $n-1$."
            ]
        },
        {
            "cell_type": "markdown",
            "metadata": {},
            "source": [
                "## Diagonale Matrix\n",
                "\n",
                "Een **diagonale matrix** heeft niet-nul elementen alleen op de hoofddiagonaal. Alle _off_-diagonale elementen zijn nul. **Een matrix $\\pmb{D}$ is diagonaal als en slechts als $D_{i,j} = 0$ voor alle $i \\neq j$**.\n",
                "$$\n",
                "\\pmb{D}_{m \\times n} = \\begin{bmatrix}\n",
                "D_{1,1} & 0 & 0 & \\ldots & 0 \\cr\n",
                "0 & D_{2,2} & 0 & \\ldots & 0 \\cr\n",
                "0 & 0 & D_{3,3} & \\ldots & 0 \\cr\n",
                "\\vdots & \\vdots & \\vdots & \\ddots & \\vdots \\cr\n",
                "0 & 0 & 0 & \\ldots & D_{n,n} \\cr\n",
                "0 & 0 & 0 & \\ldots & 0 \\cr\n",
                "\\vdots & \\vdots & \\vdots & \\vdots & \\vdots \\cr\n",
                "0 & 0 & 0 & \\ldots & 0\n",
                "\\end{bmatrix}\n",
                "$$"
            ]
        },
        {
            "cell_type": "code",
            "execution_count": 6,
            "metadata": {},
            "outputs": [],
            "source": [
                "import numpy as np"
            ]
        },
        {
            "cell_type": "code",
            "execution_count": 17,
            "metadata": {},
            "outputs": [
                {
                    "name": "stdout",
                    "output_type": "stream",
                    "text": [
                        "Diagonal Matrix:\n",
                        "[[2 0 0]\n",
                        " [0 5 0]\n",
                        " [0 0 8]]\n",
                        "\n",
                        "Diagonal elements: [2 5 8]\n"
                    ]
                }
            ],
            "source": [
                "# Create a diagonal matrix from a vector\n",
                "diagonal_values = np.array([2, 5, 8])\n",
                "D = np.diag(diagonal_values)\n",
                "print(\"Diagonal Matrix:\")\n",
                "print(D)\n",
                "print(f\"\\nDiagonal elements: {np.diag(D)}\")"
            ]
        },
        {
            "cell_type": "markdown",
            "metadata": {},
            "source": [
                "## Identiteitsmatrix\n",
                "\n",
                "Een **identiteitsmatrix is een _vierkante_ _diagonaal_ matrix met enkel de waarde $1$ op de hoofddiagonaal**.\n",
                "$$\n",
                "\\pmb{I}_n = \\begin{bmatrix}\n",
                "1 & 0 & 0 & \\ldots & 0 \\cr\n",
                "0 & 1 & 0 & \\ldots & 0 \\cr\n",
                "0 & 0 & 1 & \\ldots & 0 \\cr\n",
                "\\vdots & \\vdots & \\vdots & \\ddots & \\vdots \\cr\n",
                "0 & 0 & 0 & \\ldots & 1\n",
                "\\end{bmatrix}\n",
                "$$"
            ]
        },
        {
            "cell_type": "code",
            "execution_count": 8,
            "metadata": {},
            "outputs": [
                {
                    "name": "stdout",
                    "output_type": "stream",
                    "text": [
                        "3x3 Identity matrix:\n",
                        "[[1. 0. 0.]\n",
                        " [0. 1. 0.]\n",
                        " [0. 0. 1.]]\n"
                    ]
                }
            ],
            "source": [
                "# Create a 3x3 identity matrix\n",
                "I = np.eye(3)\n",
                "print(\"3x3 Identity matrix:\")\n",
                "print(I)"
            ]
        },
        {
            "cell_type": "markdown",
            "metadata": {},
            "source": [
                "## Symmetrische Matrix\n",
                "\n",
                "Een **symmetrische matrix is gelijk aan zijn transpose**:\n",
                "$$\n",
                "\\pmb{A} = \\pmb{A}^T\n",
                "$$"
            ]
        },
        {
            "cell_type": "code",
            "execution_count": 18,
            "metadata": {},
            "outputs": [
                {
                    "name": "stdout",
                    "output_type": "stream",
                    "text": [
                        "Symmetric Matrix:\n",
                        "[[4 2 1]\n",
                        " [2 5 3]\n",
                        " [1 3 6]]\n",
                        "\n",
                        "Transpose:\n",
                        "[[4 2 1]\n",
                        " [2 5 3]\n",
                        " [1 3 6]]\n"
                    ]
                }
            ],
            "source": [
                "# Create a symmetric matrix\n",
                "S = np.array([[4, 2, 1], [2, 5, 3], [1, 3, 6]])\n",
                "print(\"Symmetric Matrix:\")\n",
                "print(S)\n",
                "print(\"\\nTranspose:\")\n",
                "print(S.T)"
            ]
        },
        {
            "cell_type": "markdown",
            "metadata": {},
            "source": [
                "## _Upper triangular_ matrix\n",
                "\n",
                "Een **_upper triangular_ matrix** is een vierkante matrix met alle elementen onder de hoofddiagonaal gelijk aan nul. **Een matrix $\\pmb{U}^{m \\times n}$ is een _upper triangular_ matrix als en slechts als $m = n$ en $U_{i,j} = 0$ voor alle $i < j$**\n",
                "$$\n",
                "\\pmb{U}_n = \\begin{bmatrix}\n",
                "U_{1,1} & U_{1,2} & U_{1,3} & \\ldots & U_{1,n} \\cr\n",
                "0 & U_{2,2} & U_{2,3} & \\ldots & U_{2,n} \\cr\n",
                "0 & 0 & U_{3,3} & \\ldots & U_{3,n} \\cr\n",
                "\\vdots & \\vdots & \\vdots & \\ddots & \\vdots \\cr\n",
                "0 & 0 & 0 & \\ldots & U_{n,n}\n",
                "\\end{bmatrix}\n",
                "$$"
            ]
        },
        {
            "cell_type": "code",
            "execution_count": 20,
            "metadata": {},
            "outputs": [
                {
                    "name": "stdout",
                    "output_type": "stream",
                    "text": [
                        "Original Matrix:\n",
                        "[[4 2 1]\n",
                        " [3 5 7]\n",
                        " [1 2 9]]\n",
                        "\n",
                        "Upper Triangular:\n",
                        "[[4 2 1]\n",
                        " [0 5 7]\n",
                        " [0 0 9]]\n"
                    ]
                }
            ],
            "source": [
                "# Create an upper triangular matrix from a full matrix\n",
                "A = np.array([[4, 2, 1], [3, 5, 7], [1, 2, 9]])\n",
                "U = np.triu(A)\n",
                "print(\"Original Matrix:\")\n",
                "print(A)\n",
                "print(\"\\nUpper Triangular:\")\n",
                "print(U)"
            ]
        },
        {
            "cell_type": "markdown",
            "metadata": {},
            "source": [
                "## _Lower triangular_ matrix\n",
                "\n",
                "Een **_lower triangular_ matrix** is een vierkante matrix met alle elementen boven de hoofddiagonaal gelijk aan nul. **Een matrix $\\pmb{L}^{m \\times n}$ is een _lower triangular_ matrix als en slechts als $m = n$ en $U_{i,j} = 0$ voor alle $i > j$**\n",
                "$$\n",
                "\\pmb{L}_n = \\begin{bmatrix}\n",
                "D_{1,1} & 0 & 0 & \\ldots & 0 \\cr\n",
                "D_{2,1} & D_{2,2} & 0 & \\ldots & 0 \\cr\n",
                "D_{3,1} & D_{3,2} & D_{3,3} & \\ldots & 0 \\cr\n",
                "\\vdots & \\vdots & \\vdots & \\ddots & \\vdots \\cr\n",
                "D_{n,1} & D_{n,2} & D_{n,3} & \\ldots & D_{n,n}\n",
                "\\end{bmatrix}\n",
                "$$"
            ]
        },
        {
            "cell_type": "code",
            "execution_count": 22,
            "metadata": {},
            "outputs": [
                {
                    "name": "stdout",
                    "output_type": "stream",
                    "text": [
                        "Original Matrix:\n",
                        "[[4 2 1]\n",
                        " [3 5 7]\n",
                        " [1 2 9]]\n",
                        "\n",
                        "Lower Triangular:\n",
                        "[[4 0 0]\n",
                        " [3 5 0]\n",
                        " [1 2 9]]\n"
                    ]
                }
            ],
            "source": [
                "# Create a lower triangular matrix\n",
                "L = np.tril(A)\n",
                "print(\"Original Matrix:\")\n",
                "print(A)\n",
                "print(\"\\nLower Triangular:\")\n",
                "print(L)"
            ]
        },
        {
            "cell_type": "markdown",
            "metadata": {},
            "source": [
                "## Orthogonale matrix\n",
                "\n",
                "Een **orthogonale of orthonormale matrix** is een vierkante matrix waarbij de rijen en kolommen orthonomale vectoren zijn. Dit impliceert dat:\n",
                "$$\n",
                "\\pmb{Q}^T\\pmb{Q} = \\pmb{Q}\\pmb{Q}^T = \\pmb{I}\n",
                "$$\n",
                "Geometrisch gezien, behouden orthogonale matrices afstanden en hoeken. Wanneer we het inner product nemen van de matrix met een reeks vectoren, behouden de resulterende vectoren hun lengte en onderlinge hoeken. Er kan wel een reflectie optreden:\n",
                "$$\n",
                "det(\\pmb{Q}) \\isin \\{-1, 1\\}\n",
                "$$"
            ]
        },
        {
            "cell_type": "markdown",
            "metadata": {},
            "source": [
                "## Rotatie matrix\n",
                "Een rotatie matrix is een orthogonale matrix waarbij de determinant $1$ is. Wanneer we het inner product nemen van de matrix met een reeks vectoren, behouden de resulterende vectoren hun lengte en onderlinge hoeken én zal er géén reflectie optreden.\n",
                "$$\n",
                "det(\\pmb{R}) = 1\n",
                "$$"
            ]
        }
    ],
    "metadata": {
        "kernelspec": {
            "display_name": "ml-courses",
            "language": "python",
            "name": "python3"
        },
        "language_info": {
            "codemirror_mode": {
                "name": "ipython",
                "version": 3
            },
            "file_extension": ".py",
            "mimetype": "text/x-python",
            "name": "python",
            "nbconvert_exporter": "python",
            "pygments_lexer": "ipython3",
            "version": "3.10.18"
        }
    },
    "nbformat": 4,
    "nbformat_minor": 4
}
