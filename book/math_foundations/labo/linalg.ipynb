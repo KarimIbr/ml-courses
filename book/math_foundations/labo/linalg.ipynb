{
 "cells": [
  {
   "cell_type": "markdown",
   "id": "144406aa",
   "metadata": {},
   "source": [
    "# Lineare algebra in Python\n",
    "\n",
    "Hier gaan we voorbeelden behandelen van alle elementen uit de les."
   ]
  },
  {
   "cell_type": "code",
   "execution_count": 1,
   "id": "7fd1f68f",
   "metadata": {},
   "outputs": [],
   "source": [
    "import numpy as np"
   ]
  },
  {
   "cell_type": "markdown",
   "id": "0289942d",
   "metadata": {},
   "source": [
    "## Numerieke primitieven\n",
    "### Scalairen\n",
    "$$a = 5$$"
   ]
  },
  {
   "cell_type": "code",
   "execution_count": 7,
   "id": "1f917836",
   "metadata": {},
   "outputs": [
    {
     "name": "stdout",
     "output_type": "stream",
     "text": [
      "5\n",
      "int64\n",
      "()\n",
      "ndarray\n"
     ]
    }
   ],
   "source": [
    "a = np.array(5)\n",
    "print(a)\n",
    "print(a.dtype)\n",
    "print(a.shape)\n",
    "print(a.__class__.__name__)"
   ]
  },
  {
   "cell_type": "markdown",
   "id": "5bcd82b9",
   "metadata": {},
   "source": [
    "$$a = 3.0$$"
   ]
  },
  {
   "cell_type": "code",
   "execution_count": null,
   "id": "fac6d770",
   "metadata": {},
   "outputs": [
    {
     "name": "stdout",
     "output_type": "stream",
     "text": [
      "3.0\n",
      "float64\n"
     ]
    }
   ],
   "source": [
    "a = np.array(3.0)\n",
    "print(a)\n",
    "print(a.dtype)"
   ]
  },
  {
   "cell_type": "markdown",
   "id": "cca3883f",
   "metadata": {},
   "source": [
    "### Vectoren"
   ]
  }
 ],
 "metadata": {
  "kernelspec": {
   "display_name": "ml-courses",
   "language": "python",
   "name": "python3"
  },
  "language_info": {
   "codemirror_mode": {
    "name": "ipython",
    "version": 3
   },
   "file_extension": ".py",
   "mimetype": "text/x-python",
   "name": "python",
   "nbconvert_exporter": "python",
   "pygments_lexer": "ipython3",
   "version": "3.10.18"
  }
 },
 "nbformat": 4,
 "nbformat_minor": 5
}
