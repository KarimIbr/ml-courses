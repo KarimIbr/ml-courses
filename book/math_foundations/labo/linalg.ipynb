{
 "cells": [
  {
   "cell_type": "markdown",
   "id": "144406aa",
   "metadata": {},
   "source": [
    "# Lineare algebra in Python\n",
    "\n",
    "Hier gaan we voorbeelden behandelen van alle elementen uit de les."
   ]
  },
  {
   "cell_type": "code",
   "execution_count": 1,
   "id": "7fd1f68f",
   "metadata": {},
   "outputs": [],
   "source": [
    "import numpy as np"
   ]
  },
  {
   "cell_type": "markdown",
   "id": "0289942d",
   "metadata": {},
   "source": [
    "## Numerieke primitieven\n",
    "### Scalairen\n",
    "$$a = 5$$"
   ]
  },
  {
   "cell_type": "code",
   "execution_count": 2,
   "id": "1f917836",
   "metadata": {},
   "outputs": [
    {
     "name": "stdout",
     "output_type": "stream",
     "text": [
      "5\n",
      "int64\n",
      "()\n",
      "ndarray\n"
     ]
    }
   ],
   "source": [
    "a = np.array(5)\n",
    "print(a)\n",
    "print(a.dtype)\n",
    "print(a.shape)\n",
    "print(a.__class__.__name__)"
   ]
  },
  {
   "cell_type": "markdown",
   "id": "5bcd82b9",
   "metadata": {},
   "source": [
    "$$a = 3.0$$"
   ]
  },
  {
   "cell_type": "code",
   "execution_count": 3,
   "id": "fac6d770",
   "metadata": {},
   "outputs": [
    {
     "name": "stdout",
     "output_type": "stream",
     "text": [
      "3.0\n",
      "float64\n"
     ]
    }
   ],
   "source": [
    "a = np.array(3.0)\n",
    "print(a)\n",
    "print(a.dtype)"
   ]
  },
  {
   "cell_type": "markdown",
   "id": "cca3883f",
   "metadata": {},
   "source": [
    "### Vectoren\n",
    "\n",
    "$$\n",
    "\\pmb{a} = \\begin{bmatrix}\n",
    "5 \\cr\n",
    "8 \\cr\n",
    "12\n",
    "\\end{bmatrix}\n",
    "$$"
   ]
  },
  {
   "cell_type": "code",
   "execution_count": 10,
   "id": "d03e579a",
   "metadata": {},
   "outputs": [
    {
     "name": "stdout",
     "output_type": "stream",
     "text": [
      "[ 5  8 12]\n",
      "(3,)\n"
     ]
    }
   ],
   "source": [
    "a = np.array([5, 8, 12])\n",
    "print(a)\n",
    "print(a.shape)"
   ]
  },
  {
   "cell_type": "markdown",
   "id": "3f5850a5",
   "metadata": {},
   "source": [
    "Als een kolom-vector (een matrix met 1 kolom)"
   ]
  },
  {
   "cell_type": "code",
   "execution_count": 11,
   "id": "c85e7161",
   "metadata": {},
   "outputs": [
    {
     "data": {
      "text/plain": [
       "array([[ 5],\n",
       "       [ 8],\n",
       "       [12]])"
      ]
     },
     "execution_count": 11,
     "metadata": {},
     "output_type": "execute_result"
    }
   ],
   "source": [
    "a.reshape(3, 1)"
   ]
  },
  {
   "cell_type": "markdown",
   "id": "d9263125",
   "metadata": {},
   "source": [
    "Als een rij-vector (een matrix met 1 _rij_)\n",
    "\n",
    "$$\n",
    "\\pmb{a}^T = \\begin{bmatrix}\n",
    "5 & 8 & 12\n",
    "\\end{bmatrix}\n",
    "$$"
   ]
  },
  {
   "cell_type": "code",
   "execution_count": 12,
   "id": "b3768b70",
   "metadata": {},
   "outputs": [
    {
     "data": {
      "text/plain": [
       "array([[ 5,  8, 12]])"
      ]
     },
     "execution_count": 12,
     "metadata": {},
     "output_type": "execute_result"
    }
   ],
   "source": [
    "a.reshape(1, 3)"
   ]
  },
  {
   "cell_type": "markdown",
   "id": "1c01f2c8",
   "metadata": {},
   "source": [
    "Transpositie terug naar kolom-vector."
   ]
  },
  {
   "cell_type": "code",
   "execution_count": 15,
   "id": "46dea143",
   "metadata": {},
   "outputs": [
    {
     "data": {
      "text/plain": [
       "array([[ 5],\n",
       "       [ 8],\n",
       "       [12]])"
      ]
     },
     "execution_count": 15,
     "metadata": {},
     "output_type": "execute_result"
    }
   ],
   "source": [
    "a.reshape(1, 3).T"
   ]
  },
  {
   "cell_type": "markdown",
   "id": "435922df",
   "metadata": {},
   "source": [
    "Basis operaties  \n",
    "  \n",
    "$$\n",
    "\\pmb{a} + 5\n",
    "$$"
   ]
  },
  {
   "cell_type": "code",
   "execution_count": null,
   "id": "074f3426",
   "metadata": {},
   "outputs": [
    {
     "name": "stdout",
     "output_type": "stream",
     "text": [
      "a: [ 5  8 12]\n",
      "a+5: [10 13 17]\n"
     ]
    }
   ],
   "source": [
    "print(f\"a: {a}\")\n",
    "print(f\"a+5: {a + 5}\")"
   ]
  },
  {
   "cell_type": "markdown",
   "id": "ef0fed9f",
   "metadata": {},
   "source": [
    "$$\n",
    "\\pmb{a} * 5\n",
    "$$"
   ]
  },
  {
   "cell_type": "code",
   "execution_count": 27,
   "id": "996f7995",
   "metadata": {},
   "outputs": [
    {
     "name": "stdout",
     "output_type": "stream",
     "text": [
      "a * 5: [25 40 60]\n"
     ]
    }
   ],
   "source": [
    "print(f\"a * 5: {a * 5}\")"
   ]
  },
  {
   "cell_type": "markdown",
   "id": "fc7b1138",
   "metadata": {},
   "source": [
    "$$\n",
    "\\pmb{b} = \\begin{bmatrix}\n",
    "1 \\cr\n",
    "2 \\cr\n",
    "3\n",
    "\\end{bmatrix}\n",
    "$$\n",
    "\n",
    "$$\n",
    "\\pmb{a} + \\pmb{b}\n",
    "$$"
   ]
  },
  {
   "cell_type": "code",
   "execution_count": null,
   "id": "cd1d5f0d",
   "metadata": {},
   "outputs": [
    {
     "name": "stdout",
     "output_type": "stream",
     "text": [
      "a + b: [ 6 10 15]\n"
     ]
    }
   ],
   "source": [
    "b = np.array([1, 2, 3])\n",
    "print(f\"a + b: {a + b}\")"
   ]
  },
  {
   "cell_type": "markdown",
   "id": "0673abd0",
   "metadata": {},
   "source": [
    "Let op voor dimensies!"
   ]
  },
  {
   "cell_type": "code",
   "execution_count": null,
   "id": "848913e9",
   "metadata": {},
   "outputs": [
    {
     "ename": "ValueError",
     "evalue": "operands could not be broadcast together with shapes (3,) (4,) ",
     "output_type": "error",
     "traceback": [
      "\u001b[0;31m---------------------------------------------------------------------------\u001b[0m",
      "\u001b[0;31mValueError\u001b[0m                                Traceback (most recent call last)",
      "Cell \u001b[0;32mIn[30], line 2\u001b[0m\n\u001b[1;32m      1\u001b[0m b \u001b[38;5;241m=\u001b[39m np\u001b[38;5;241m.\u001b[39marray([\u001b[38;5;241m1\u001b[39m, \u001b[38;5;241m2\u001b[39m, \u001b[38;5;241m3\u001b[39m, \u001b[38;5;241m4\u001b[39m])\n\u001b[0;32m----> 2\u001b[0m \u001b[38;5;28mprint\u001b[39m(\u001b[38;5;124mf\u001b[39m\u001b[38;5;124m\"\u001b[39m\u001b[38;5;124ma + b: \u001b[39m\u001b[38;5;132;01m{\u001b[39;00m\u001b[43ma\u001b[49m\u001b[38;5;241;43m+\u001b[39;49m\u001b[43mb\u001b[49m\u001b[38;5;132;01m}\u001b[39;00m\u001b[38;5;124m\"\u001b[39m)\n",
      "\u001b[0;31mValueError\u001b[0m: operands could not be broadcast together with shapes (3,) (4,) "
     ]
    }
   ],
   "source": [
    "b = np.array([1, 2, 3, 4])\n",
    "print(f\"a + b: {a + b}\")"
   ]
  },
  {
   "cell_type": "markdown",
   "id": "891c3520",
   "metadata": {},
   "source": [
    "$$\n",
    "\\pmb{a}*\\pmb{b}\n",
    "$$"
   ]
  },
  {
   "cell_type": "code",
   "execution_count": 32,
   "id": "6fba8421",
   "metadata": {},
   "outputs": [
    {
     "name": "stdout",
     "output_type": "stream",
     "text": [
      "a * b: [ 5 16 36]\n"
     ]
    }
   ],
   "source": [
    "b = np.array([1, 2, 3])\n",
    "print(f\"a * b: {a * b}\")"
   ]
  },
  {
   "cell_type": "markdown",
   "id": "11c659b7",
   "metadata": {},
   "source": [
    "### Matrices\n",
    "\n",
    "$$\n",
    "\\pmb{B} = \\begin{bmatrix}\n",
    "1.0 & 2.0 & 3.0 \\cr\n",
    "7.0 & 1.0 & 2.0\n",
    "\\end{bmatrix}\n",
    "$$"
   ]
  },
  {
   "cell_type": "code",
   "execution_count": null,
   "id": "8dd7785f",
   "metadata": {},
   "outputs": [
    {
     "name": "stdout",
     "output_type": "stream",
     "text": [
      "[[1. 2. 3.]\n",
      " [7. 1. 2.]]\n",
      "(2, 3)\n"
     ]
    }
   ],
   "source": [
    "b = np.array([[1.0, 2.0, 3.0], [7.0, 1.0, 2.0]])\n",
    "print(b)\n",
    "print(b.shape)"
   ]
  },
  {
   "cell_type": "markdown",
   "id": "d4884f2f",
   "metadata": {},
   "source": [
    "$\\pmb{B}^T$"
   ]
  },
  {
   "cell_type": "code",
   "execution_count": 16,
   "id": "daa45463",
   "metadata": {},
   "outputs": [
    {
     "data": {
      "text/plain": [
       "array([[1., 7.],\n",
       "       [2., 1.],\n",
       "       [3., 2.]])"
      ]
     },
     "execution_count": 16,
     "metadata": {},
     "output_type": "execute_result"
    }
   ],
   "source": [
    "b.T"
   ]
  },
  {
   "cell_type": "markdown",
   "id": "e8497f64",
   "metadata": {},
   "source": [
    "### Tensors\n",
    "\n",
    "$$\n",
    "\\pmb{C} = \\begin{bmatrix}\n",
    "\\begin{bmatrix}\n",
    "1.0 & 2.0 & 3.0 \\cr\n",
    "7.0 & 1.0 & 2.0\n",
    "\\end{bmatrix}, \\cr\n",
    "\\begin{bmatrix}\n",
    "5.0 & 1.0 & 3.0 \\cr\n",
    "2.0 & 9.0 & 6.0\n",
    "\\end{bmatrix}\n",
    "\\end{bmatrix}\n",
    "$$"
   ]
  },
  {
   "cell_type": "code",
   "execution_count": null,
   "id": "123d8a58",
   "metadata": {},
   "outputs": [
    {
     "name": "stdout",
     "output_type": "stream",
     "text": [
      "[[[1. 2. 3.]\n",
      "  [7. 1. 2.]]\n",
      "\n",
      " [[5. 1. 3.]\n",
      "  [2. 9. 6.]]]\n",
      "(2, 2, 3)\n"
     ]
    }
   ],
   "source": [
    "c = np.array([[[1.0, 2.0, 3.0], [7.0, 1.0, 2.0]], [[5.0, 1.0, 3.0], [2.0, 9.0, 6.0]]])\n",
    "print(c)\n",
    "print(c.shape)"
   ]
  },
  {
   "cell_type": "code",
   "execution_count": 18,
   "id": "58cbd16b",
   "metadata": {},
   "outputs": [
    {
     "data": {
      "text/plain": [
       "array([[[1., 2.],\n",
       "        [3., 7.]],\n",
       "\n",
       "       [[1., 2.],\n",
       "        [5., 1.]],\n",
       "\n",
       "       [[3., 2.],\n",
       "        [9., 6.]]])"
      ]
     },
     "execution_count": 18,
     "metadata": {},
     "output_type": "execute_result"
    }
   ],
   "source": [
    "c.reshape(3, 2, 2)"
   ]
  },
  {
   "cell_type": "code",
   "execution_count": 22,
   "id": "846ed02b",
   "metadata": {},
   "outputs": [
    {
     "name": "stdout",
     "output_type": "stream",
     "text": [
      "[[[[0.22733602 0.31675834 0.79736546]\n",
      "   [0.67625467 0.39110955 0.33281393]]\n",
      "\n",
      "  [[0.59830875 0.18673419 0.67275604]\n",
      "   [0.94180287 0.24824571 0.94888115]]\n",
      "\n",
      "  [[0.66723745 0.09589794 0.44183967]\n",
      "   [0.88647992 0.6974535  0.32647286]]]\n",
      "\n",
      "\n",
      " [[[0.73392816 0.22013496 0.08159457]\n",
      "   [0.1598956  0.34010018 0.46519315]]\n",
      "\n",
      "  [[0.26642103 0.8157764  0.19329439]\n",
      "   [0.12946908 0.09166475 0.59856801]]\n",
      "\n",
      "  [[0.8547419  0.60162124 0.93198836]\n",
      "   [0.72478136 0.86055132 0.9293378 ]]]\n",
      "\n",
      "\n",
      " [[[0.54618601 0.93767296 0.49498794]\n",
      "   [0.27377318 0.45177871 0.66503892]]\n",
      "\n",
      "  [[0.33089093 0.90345401 0.25707418]\n",
      "   [0.33982834 0.2588534  0.35544648]]\n",
      "\n",
      "  [[0.00502233 0.62860454 0.28238271]\n",
      "   [0.06808769 0.61682898 0.17632632]]]\n",
      "\n",
      "\n",
      " [[[0.30438839 0.44088681 0.15020234]\n",
      "   [0.21792886 0.47433312 0.47636886]]\n",
      "\n",
      "  [[0.25523235 0.29756527 0.27906712]\n",
      "   [0.26057921 0.48276159 0.21197904]]\n",
      "\n",
      "  [[0.4956306  0.24626133 0.83848265]\n",
      "   [0.18013059 0.86215629 0.17829944]]]\n",
      "\n",
      "\n",
      " [[[0.75053133 0.6111204  0.20915503]\n",
      "   [0.75987242 0.24926057 0.08557173]]\n",
      "\n",
      "  [[0.61805672 0.53696833 0.63452671]\n",
      "   [0.17437411 0.24816449 0.68482298]]\n",
      "\n",
      "  [[0.08087165 0.8750736  0.42869438]\n",
      "   [0.6183942  0.3131055  0.17896286]]]]\n"
     ]
    }
   ],
   "source": [
    "rng = np.random.default_rng(12345)\n",
    "d = rng.random((5, 3, 2, 3))\n",
    "print(d)"
   ]
  },
  {
   "cell_type": "code",
   "execution_count": 35,
   "id": "a5af87cd",
   "metadata": {},
   "outputs": [
    {
     "name": "stdout",
     "output_type": "stream",
     "text": [
      "(5, 3, 2, 3)\n"
     ]
    }
   ],
   "source": [
    "g = rng.random((5, 3, 2, 3))\n",
    "print((d - g).shape)"
   ]
  },
  {
   "cell_type": "code",
   "execution_count": 36,
   "id": "935cebf3",
   "metadata": {},
   "outputs": [],
   "source": [
    "h = g.reshape((3, 3, 2, 5))"
   ]
  },
  {
   "cell_type": "code",
   "execution_count": null,
   "id": "b8e61127",
   "metadata": {},
   "outputs": [],
   "source": [
    "j = g.reshape((3, 3 * 2 * 5))"
   ]
  },
  {
   "cell_type": "code",
   "execution_count": 41,
   "id": "2afe8041",
   "metadata": {},
   "outputs": [
    {
     "ename": "ValueError",
     "evalue": "operands could not be broadcast together with shapes (5,3,2,3) (3,3,2,5) ",
     "output_type": "error",
     "traceback": [
      "\u001b[0;31m---------------------------------------------------------------------------\u001b[0m",
      "\u001b[0;31mValueError\u001b[0m                                Traceback (most recent call last)",
      "Cell \u001b[0;32mIn[41], line 1\u001b[0m\n\u001b[0;32m----> 1\u001b[0m \u001b[38;5;28mprint\u001b[39m((\u001b[43md\u001b[49m\u001b[43m \u001b[49m\u001b[38;5;241;43m-\u001b[39;49m\u001b[43m \u001b[49m\u001b[43mh\u001b[49m)\u001b[38;5;241m.\u001b[39mshape)\n",
      "\u001b[0;31mValueError\u001b[0m: operands could not be broadcast together with shapes (5,3,2,3) (3,3,2,5) "
     ]
    }
   ],
   "source": [
    "print((d - h).shape)"
   ]
  },
  {
   "cell_type": "code",
   "execution_count": 42,
   "id": "d2bd0462",
   "metadata": {},
   "outputs": [
    {
     "ename": "ValueError",
     "evalue": "operands could not be broadcast together with shapes (5,3,2,3) (3,30) ",
     "output_type": "error",
     "traceback": [
      "\u001b[0;31m---------------------------------------------------------------------------\u001b[0m",
      "\u001b[0;31mValueError\u001b[0m                                Traceback (most recent call last)",
      "Cell \u001b[0;32mIn[42], line 1\u001b[0m\n\u001b[0;32m----> 1\u001b[0m \u001b[38;5;28mprint\u001b[39m((\u001b[43md\u001b[49m\u001b[43m \u001b[49m\u001b[38;5;241;43m-\u001b[39;49m\u001b[43m \u001b[49m\u001b[43mj\u001b[49m)\u001b[38;5;241m.\u001b[39mshape)\n",
      "\u001b[0;31mValueError\u001b[0m: operands could not be broadcast together with shapes (5,3,2,3) (3,30) "
     ]
    }
   ],
   "source": [
    "print((d - j).shape)"
   ]
  }
 ],
 "metadata": {
  "kernelspec": {
   "display_name": "ml-courses",
   "language": "python",
   "name": "python3"
  },
  "language_info": {
   "codemirror_mode": {
    "name": "ipython",
    "version": 3
   },
   "file_extension": ".py",
   "mimetype": "text/x-python",
   "name": "python",
   "nbconvert_exporter": "python",
   "pygments_lexer": "ipython3",
   "version": "3.10.18"
  }
 },
 "nbformat": 4,
 "nbformat_minor": 5
}
