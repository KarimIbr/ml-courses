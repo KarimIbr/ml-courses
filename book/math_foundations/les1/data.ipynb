{
 "cells": [
  {
   "cell_type": "markdown",
   "id": "8fc95652",
   "metadata": {},
   "source": [
    "# Data\n",
    "In machine learning willen we complexe patronen in **data** herkennen en produceren *zonder expliciete regels te programmeren*.  \n",
    "Het soort data hangt volledig af van het specifieke probleem dat we willen oplossen.  \n",
    "\n",
    "Voorbeeld:  \n",
    "- data: [Uber Data Analytics Dashboard](https://www.kaggle.com/datasets/yashdevladdha/uber-ride-analytics-dashboard/data)\n",
    "- analyse: [The Complete Uber Data Analytics Playbook](https://www.kaggle.com/code/albab12/the-complete-uber-analytics-playbook)"
   ]
  },
  {
   "cell_type": "code",
   "execution_count": 28,
   "id": "f683daf2",
   "metadata": {},
   "outputs": [
    {
     "name": "stdout",
     "output_type": "stream",
     "text": [
      "✅ Data loaded successfully!\n"
     ]
    }
   ],
   "source": [
    "import kagglehub\n",
    "import os\n",
    "import pandas as pd\n",
    "\n",
    "# Download data\n",
    "path = kagglehub.dataset_download(\"yashdevladdha/uber-ride-analytics-dashboard\")\n",
    "\n",
    "# Load data into Pandas DataFrame\n",
    "csv_file = os.path.join(path, \"ncr_ride_bookings.csv\")\n",
    "df = pd.read_csv(csv_file)\n",
    "print(\"✅ Data loaded successfully!\")"
   ]
  },
  {
   "cell_type": "markdown",
   "id": "842baa89",
   "metadata": {},
   "source": [
    "Deze dataset bestaat uit 150K **metingen** (rijen) voor 21 **variabelen** (kolommen). Denk aan een Excel sheet!  \n",
    "De **unit van observatie** is een individuele taxi rit.  \n",
    "Voor sommige variabelen zijn er ontbrekende (niet-geregistreerde) waarden (zogeheten **missing values**; zie `Non-Null Count < 15000`; bv. `Customer Rating`)."
   ]
  },
  {
   "cell_type": "code",
   "execution_count": 29,
   "id": "02d47407",
   "metadata": {},
   "outputs": [
    {
     "name": "stdout",
     "output_type": "stream",
     "text": [
      "📊 Dataset shape: (150000, 21)\n",
      "📈 Total rides: 150,000\n",
      "\n",
      "📋 Column Info:\n",
      "Total columns: 21\n",
      "<class 'pandas.core.frame.DataFrame'>\n",
      "RangeIndex: 150000 entries, 0 to 149999\n",
      "Data columns (total 21 columns):\n",
      " #   Column                             Non-Null Count   Dtype  \n",
      "---  ------                             --------------   -----  \n",
      " 0   Date                               150000 non-null  object \n",
      " 1   Time                               150000 non-null  object \n",
      " 2   Booking ID                         150000 non-null  object \n",
      " 3   Booking Status                     150000 non-null  object \n",
      " 4   Customer ID                        150000 non-null  object \n",
      " 5   Vehicle Type                       150000 non-null  object \n",
      " 6   Pickup Location                    150000 non-null  object \n",
      " 7   Drop Location                      150000 non-null  object \n",
      " 8   Avg VTAT                           139500 non-null  float64\n",
      " 9   Avg CTAT                           102000 non-null  float64\n",
      " 10  Cancelled Rides by Customer        10500 non-null   float64\n",
      " 11  Reason for cancelling by Customer  10500 non-null   object \n",
      " 12  Cancelled Rides by Driver          27000 non-null   float64\n",
      " 13  Driver Cancellation Reason         27000 non-null   object \n",
      " 14  Incomplete Rides                   9000 non-null    float64\n",
      " 15  Incomplete Rides Reason            9000 non-null    object \n",
      " 16  Booking Value                      102000 non-null  float64\n",
      " 17  Ride Distance                      102000 non-null  float64\n",
      " 18  Driver Ratings                     93000 non-null   float64\n",
      " 19  Customer Rating                    93000 non-null   float64\n",
      " 20  Payment Method                     102000 non-null  object \n",
      "dtypes: float64(9), object(12)\n",
      "memory usage: 24.0+ MB\n"
     ]
    }
   ],
   "source": [
    "print(f\"📊 Dataset shape: {df.shape}\")\n",
    "print(f\"📈 Total rides: {len(df):,}\")\n",
    "\n",
    "# Let's see what we're working with\n",
    "print(\"\\n📋 Column Info:\")\n",
    "print(f\"Total columns: {len(df.columns)}\")\n",
    "df.info()"
   ]
  },
  {
   "cell_type": "markdown",
   "id": "d4fbba6c",
   "metadata": {},
   "source": [
    "Niet alle waarden zijn numeriek (bv. `Time`, `Vehicle Type`, `Pickup Location`)"
   ]
  },
  {
   "cell_type": "code",
   "execution_count": 30,
   "id": "c329309c",
   "metadata": {},
   "outputs": [
    {
     "data": {
      "text/html": [
       "<div>\n",
       "<style scoped>\n",
       "    .dataframe tbody tr th:only-of-type {\n",
       "        vertical-align: middle;\n",
       "    }\n",
       "\n",
       "    .dataframe tbody tr th {\n",
       "        vertical-align: top;\n",
       "    }\n",
       "\n",
       "    .dataframe thead th {\n",
       "        text-align: right;\n",
       "    }\n",
       "</style>\n",
       "<table border=\"1\" class=\"dataframe\">\n",
       "  <thead>\n",
       "    <tr style=\"text-align: right;\">\n",
       "      <th></th>\n",
       "      <th>Time</th>\n",
       "      <th>Vehicle Type</th>\n",
       "      <th>Pickup Location</th>\n",
       "      <th>Avg VTAT</th>\n",
       "    </tr>\n",
       "  </thead>\n",
       "  <tbody>\n",
       "    <tr>\n",
       "      <th>0</th>\n",
       "      <td>12:29:38</td>\n",
       "      <td>eBike</td>\n",
       "      <td>Palam Vihar</td>\n",
       "      <td>NaN</td>\n",
       "    </tr>\n",
       "    <tr>\n",
       "      <th>1</th>\n",
       "      <td>18:01:39</td>\n",
       "      <td>Go Sedan</td>\n",
       "      <td>Shastri Nagar</td>\n",
       "      <td>4.9</td>\n",
       "    </tr>\n",
       "    <tr>\n",
       "      <th>2</th>\n",
       "      <td>08:56:10</td>\n",
       "      <td>Auto</td>\n",
       "      <td>Khandsa</td>\n",
       "      <td>13.4</td>\n",
       "    </tr>\n",
       "    <tr>\n",
       "      <th>3</th>\n",
       "      <td>17:17:25</td>\n",
       "      <td>Premier Sedan</td>\n",
       "      <td>Central Secretariat</td>\n",
       "      <td>13.1</td>\n",
       "    </tr>\n",
       "    <tr>\n",
       "      <th>4</th>\n",
       "      <td>22:08:00</td>\n",
       "      <td>Bike</td>\n",
       "      <td>Ghitorni Village</td>\n",
       "      <td>5.3</td>\n",
       "    </tr>\n",
       "  </tbody>\n",
       "</table>\n",
       "</div>"
      ],
      "text/plain": [
       "       Time   Vehicle Type      Pickup Location  Avg VTAT\n",
       "0  12:29:38          eBike          Palam Vihar       NaN\n",
       "1  18:01:39       Go Sedan        Shastri Nagar       4.9\n",
       "2  08:56:10           Auto              Khandsa      13.4\n",
       "3  17:17:25  Premier Sedan  Central Secretariat      13.1\n",
       "4  22:08:00           Bike     Ghitorni Village       5.3"
      ]
     },
     "execution_count": 30,
     "metadata": {},
     "output_type": "execute_result"
    }
   ],
   "source": [
    "df[[\"Time\", \"Vehicle Type\", \"Pickup Location\", \"Avg VTAT\"]].head()"
   ]
  }
 ],
 "metadata": {
  "kernelspec": {
   "display_name": "ml-courses",
   "language": "python",
   "name": "python3"
  },
  "language_info": {
   "codemirror_mode": {
    "name": "ipython",
    "version": 3
   },
   "file_extension": ".py",
   "mimetype": "text/x-python",
   "name": "python",
   "nbconvert_exporter": "python",
   "pygments_lexer": "ipython3",
   "version": "3.10.18"
  }
 },
 "nbformat": 4,
 "nbformat_minor": 5
}
