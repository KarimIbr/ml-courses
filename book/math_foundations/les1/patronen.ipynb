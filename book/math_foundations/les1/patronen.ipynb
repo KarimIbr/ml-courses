{
 "cells": [
  {
   "cell_type": "markdown",
   "id": "df209e66",
   "metadata": {},
   "source": [
    "Patronen in data zijn per definitie metingen die **wederkerig** zijn. Om ze te ontdekken moeten we op zoek gaan naar *subsets van metingen die meer gelijkenis met elkaar vertonen dan je zou verwachten op basis van pure kans*. We spreken over **eilanden van regulariteit**. Dat impliceert drie belangrijke principes:  \n",
    "1. De dataset moet voldoende groot zijn om naar subsets op zoek te gaan.\n",
    "2. De subsets moeten voldoende groot zijn om van een wederkerig patroon te kunnen spreken.\n",
    "3. We moeten een manier hebben om verschillende metingen met elkaar te vergelijken."
   ]
  },
  {
   "cell_type": "markdown",
   "id": "5a418666",
   "metadata": {},
   "source": []
  }
 ],
 "metadata": {
  "language_info": {
   "name": "python"
  }
 },
 "nbformat": 4,
 "nbformat_minor": 5
}
