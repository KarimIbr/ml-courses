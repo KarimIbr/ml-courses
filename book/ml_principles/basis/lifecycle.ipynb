{
 "cells": [
  {
   "cell_type": "markdown",
   "id": "06e9c32c",
   "metadata": {},
   "source": [
    "# Machine Learning Life Cycle"
   ]
  }
 ],
 "metadata": {
  "language_info": {
   "name": "python"
  }
 },
 "nbformat": 4,
 "nbformat_minor": 5
}
