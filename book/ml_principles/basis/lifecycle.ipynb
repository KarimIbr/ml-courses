{
    "cells": [
        {
            "cell_type": "markdown",
            "id": "06e9c32c",
            "metadata": {},
            "source": [
                "# Machine Learning Proces\n",
                "\n",
                "Het ontwikkelen van een machine learning model volgt de volgende stappen: \n",
                "1. **Probleem definitie**\n",
                "2. **Data verzameling**\n",
                "3. **Data voorbereiding**\n",
                "4. **_Feature engineering_**\n",
                "5. **Data exploratie**\n",
                "6. **Model specificatie**\n",
                "7. **Model training**\n",
                "8. **Model _refinement_**\n",
                "\n",
                "Zoals geïllustreerd in de onderstaande figuur, vormen deze stappen **quasi _nooit_ een strikt lineair proces**.\n",
                "\n",
                "![](../../../img/MLProcess.jpg)\n",
                "\n",
                "## 1. Probleem definitie\n",
                "Deze stap vergt soms reeds een significante inspanning, maar het heeft geen zin om aan een machine learning pad te beginnen zonder een **duidelijke aflijning van de vraag die we willen beantwoorden**.   \n",
                "\n",
                "## 2. Data verzameling  \n",
                "Is er **geschikte data in voldoende hoeveelheden** aanwezig (ook voor latere monitoring)? Kunnen we gebruikmaken van _supervised learning_ (zijn er duidelijke leertargetdata)?\n",
                "\n",
                "## 3. Data voorbereiding\n",
                "Moet er **missing data** behandeld worden? Zijn er **meetfouten**? Moet er **annotatie** gebeuren?\n",
                "\n",
                "## 4. _Feature engineering_\n",
                "Hoe moeten de variabelen **vertaald worden naar geschikte numerieke waarden** in de feature matrix?\n",
                "\n",
                "## 5. Data exploratie\n",
                "Visuele en statistische **verkenning van patronen** in de data.\n",
                "\n",
                "## 6. Model specificatie\n",
                "Welk **type model** en/of welke **architectuur** is meest geschikt? Welk **leeralgoritme**? Welke **implementatie**?\n",
                "\n",
                "## 7. Model training\n",
                "Parameter optimalisatie en evaluatie van het leerproces. Zijn de beoogde patronen geleerd? \n",
                "\n",
                "## 8. Model _refinement_\n",
                "Hyper parameter tuning.\n",
                "\n",
                "  \n",
                "\n",
                "Na _refinement_ kan beslist worden om het model te operationaliseren in een productieomgeving. Daarvoor zijn meestal nog aanzienlijke ontwikkeling inspanningen nodig (API development & _DevOps_).\n",
                "Eens het model effectief in productie gebruikt wordt, is ook nood aan een vorm van _model monitoring_ met gepaste metrieken om bijvoorbeeld een model hertraining te realiseren. Dit is het domein van _MLOps_."
            ]
        }
    ],
    "metadata": {
        "language_info": {
            "name": "python"
        }
    },
    "nbformat": 4,
    "nbformat_minor": 5
}