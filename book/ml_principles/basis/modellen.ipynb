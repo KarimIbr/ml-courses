{
    "cells": [
        {
            "cell_type": "markdown",
            "id": "8f45a80f",
            "metadata": {},
            "source": [
                "# Modellen\n",
                "\n",
                "Om patronen in data te herkennen met machine learning gaan we steeds vertrekken vanuit een *idee over\n",
                "de manier waarop data en variaties in data in een specifiek geval tot stand komen*. Dat idee wordt wiskundig geformaliseerd in een (data) model.\n",
                "\n",
                ":::{note} 🌍\n",
                ":icon: false\n",
                ":class: simple \n",
                "In het voorbeeld van de airco installatie zouden we kunnen vertrekken van een naïef idee waarbij voor iedere gebruiker één *zelfde*\n",
                "ideale drempel temperatuur geldt. We zouden er dan vanuit gaan dat hoewel de verzamelde data variaties vertoont, die variatie gewoon als ruis te beschouwen is.  \n",
                "Dit kunnen we als volgt formeel beschrijven:\n",
                "$$\n",
                "\\begin{aligned}\n",
                "d_i &= b + e_i \\\\\n",
                "E(e_i) &= 0\n",
                "\\end{aligned}\n",
                "$$\n",
                "De tweede vergelijking geeft aan dat $e_i$ een ruis factor is, met als verwachte waarde $0$.  \n",
                "Het patroon in de data waar we naar op zoek zijn is simpelweg gegeven door de *parameter* $b$.\n",
                ":::\n",
                "\n",
                "**Een model is de formele wiskundige beschrijving van de manier waarop data en data-variaties in een specifiek geval tot stand komen.**  \n",
                "De keuze van ons model hangt rechstreeks samen met de keuze van het leeralgoritme.\n",
                "\n",
                ":::{note} 🌍\n",
                ":icon: false\n",
                ":class: simple \n",
                "Het model waarbij alle data het resultaat is van de som van een ideale waarde $b$ en een hoeveelheid ruis, impliceert dat $E(d_i) = b$.\n",
                "Om het patroon $b$ te achterhalen of \"leren\" op basis van de data, kiezen we een algoritme om de verwachte waarde van $d_i$ te *benaderen*.\n",
                "In dit geval kiezen we voor een heel simpel leeralgoritme: het *steekproef gemiddelde* van de geobserveerde voorkeurstemperaturen.\n",
                ":::"
            ]
        }
    ],
    "metadata": {
        "kernelspec": {
            "display_name": "ml-principles",
            "language": "python",
            "name": "python3"
        },
        "language_info": {
            "codemirror_mode": {
                "name": "ipython",
                "version": 3
            },
            "file_extension": ".py",
            "mimetype": "text/x-python",
            "name": "python",
            "nbconvert_exporter": "python",
            "pygments_lexer": "ipython3",
            "version": "3.10.18"
        }
    },
    "nbformat": 4,
    "nbformat_minor": 5
}