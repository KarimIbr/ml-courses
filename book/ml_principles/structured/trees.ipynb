{
 "cells": [
  {
   "cell_type": "markdown",
   "id": "9ec1b5ff",
   "metadata": {},
   "source": [
    "# _Decision trees_\n",
    "\n",
    "Patroonherkenning in gestructureerde (en in bepaalde gevallen ook semi-gestructureerde) data is vaak het meest succesvol met zogenaamde _decision tree_ modellen, of althans een afgeleide daarvan.\n",
    "Het leren gebeurt door _supervision_ en ze kuun gebruikt worden voor zowel _klassificatie-_ als _regressietaken_.\n",
    "\n"
   ]
  }
 ],
 "metadata": {
  "language_info": {
   "name": "python"
  }
 },
 "nbformat": 4,
 "nbformat_minor": 5
}
