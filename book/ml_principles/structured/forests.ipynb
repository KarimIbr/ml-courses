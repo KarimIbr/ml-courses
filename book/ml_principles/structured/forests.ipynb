{
 "cells": [
  {
   "cell_type": "markdown",
   "id": "a734e3b4",
   "metadata": {},
   "source": [
    "# _Random forests_\n",
    "\n",
    "Het basisconcept bij **random forests** is om verschillende _decision trees_ te trainen op verschillende subsets van de data en de output van die modellen te aggregeren in een finale predictie. Het behoort daarom tot de klasse van **ensemble leeralgoritmes**. Algemeen gesproken, worden bij ensemble technieken **verschillende predictiemodellen gecombineerd om tot een betere performantie te komen**."
   ]
  }
 ],
 "metadata": {
  "language_info": {
   "name": "python"
  }
 },
 "nbformat": 4,
 "nbformat_minor": 5
}
