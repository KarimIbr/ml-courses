{
 "cells": [
  {
   "cell_type": "markdown",
   "id": "a734e3b4",
   "metadata": {},
   "source": [
    "# _Random forests_\n",
    "\n"
   ]
  }
 ],
 "metadata": {
  "language_info": {
   "name": "python"
  }
 },
 "nbformat": 4,
 "nbformat_minor": 5
}
