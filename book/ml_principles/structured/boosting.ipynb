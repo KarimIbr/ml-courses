{
 "cells": [
  {
   "cell_type": "markdown",
   "id": "7eb0d5bc",
   "metadata": {},
   "source": [
    "# _Boosted trees_\n",
    "\n",
    "In tegenstelling tot andere ensemble-methoden die modellen parallel bouwen (zoals _random forests_), bouwen **_boosting_-algoritmes modellen sequentieel. Elk nieuw model in de reeks wordt getraind om de fouten te corrigeren die door zijn voorgangers zijn gemaakt.** Dit iteratieve proces stelt het totale model in staat om zijn nauwkeurigheid te verbeteren door te focussen op moeilijk te voorspellen voorbeelden. Er bestaan verschillende varianten, maar **_Gradient Boosting_** levert tegenwoordig meestal de beste resultaten op[^adaboost].\n",
    "\n",
    "## _Gradient Boosting_\n",
    "Bij deze techniek starten we met een eenvoudig initieel model (bv. het gemiddelde van de target bij regressie). Dan wordt iteratief telkens in 3 stappen gewerkt:  \n",
    "1. De gradient van de _loss_ functie wordt berekend naar iedere input[^math_foundations]. Bij een regressieprobleem met een $L^2$ _loss_ komt dit neer op de negatieve _residuals_:\n",
    "$$\n",
    "-2(y_i-f(x_i))\n",
    "$$\n",
    "2. Die **gradient vormt de _target_ voor een nieuw model**.\n",
    "3. De predicties van het nieuwe model worden bij de predicties in de vorige stap geteld - weliswaar gewogen met een _learning rate_ hyper parameter.\n",
    "Op deze manier worden de predictiefouten stelselmatig kleiner en kleiner.\n",
    "\n",
    "## _Gradient Boosted Trees_\n",
    "Hoewel gradient boosting een algemene strategie is binnen ML, wordt de techniek veruit het meest toegepast bij _decision trees_.\n",
    "\n",
    "### Voordelen\n",
    "- Accuraatheid: _Gradient Boosting_ is algemeen gesproken een van de meest accurate algoritmes voor (semi-)gestructureerde data. Het doet het vaak beter dan _random forests_ omdat bij die laatste, onafhankelijke _decision trees_ worden getraind. Iedere individuele _tree_ is dan onderhevig aan dezelfde predictiefouten, terwijl bij _gradient boosting_ iedere _tree_ leert uit de fouten van de voorgaande _trees_.\n",
    "- Gebalanceerd leren: _Trees_ richten zich op de moeilijk te voorspellen gevallen. Wanneer dit samenhangt met _imbalances_ in de data, resulteert dit in een natuurlijke beveiliging tegen _bias_.\n",
    "- Flexibiliteit: Kan met eender welke _loss_ functie werken zolang die differentieerbaar is.\n",
    "- Efficiënt: Resulteert vaak in kleinere ensembles\n",
    "\n",
    "[^adaboost]: Zie bijvoorbeeld ook Adaptive Boosting (AdaBoost).\n",
    "[^math_foundations]: Hier gaan we dieper op in, in de cursus Mathematical Foundations."
   ]
  },
  {
   "cell_type": "code",
   "execution_count": 1,
   "id": "fa8feeba",
   "metadata": {},
   "outputs": [
    {
     "ename": "ModuleNotFoundError",
     "evalue": "No module named 'xgboost'",
     "output_type": "error",
     "traceback": [
      "\u001b[0;31m---------------------------------------------------------------------------\u001b[0m",
      "\u001b[0;31mModuleNotFoundError\u001b[0m                       Traceback (most recent call last)",
      "Cell \u001b[0;32mIn[1], line 4\u001b[0m\n\u001b[1;32m      2\u001b[0m \u001b[38;5;28;01mimport\u001b[39;00m\u001b[38;5;250m \u001b[39m\u001b[38;5;21;01mmatplotlib\u001b[39;00m\n\u001b[1;32m      3\u001b[0m \u001b[38;5;28;01mfrom\u001b[39;00m\u001b[38;5;250m \u001b[39m\u001b[38;5;21;01msklearn\u001b[39;00m\u001b[38;5;21;01m.\u001b[39;00m\u001b[38;5;21;01mdatasets\u001b[39;00m\u001b[38;5;250m \u001b[39m\u001b[38;5;28;01mimport\u001b[39;00m load_iris\n\u001b[0;32m----> 4\u001b[0m \u001b[38;5;28;01mfrom\u001b[39;00m\u001b[38;5;250m \u001b[39m\u001b[38;5;21;01mxgboost\u001b[39;00m\u001b[38;5;250m \u001b[39m\u001b[38;5;28;01mimport\u001b[39;00m XGBClassifier\n\u001b[1;32m      6\u001b[0m \u001b[38;5;28;01mfrom\u001b[39;00m\u001b[38;5;250m \u001b[39m\u001b[38;5;21;01mml_courses\u001b[39;00m\u001b[38;5;21;01m.\u001b[39;00m\u001b[38;5;21;01mutils\u001b[39;00m\u001b[38;5;250m \u001b[39m\u001b[38;5;28;01mimport\u001b[39;00m display_dtreeviz\n\u001b[1;32m      8\u001b[0m matplotlib\u001b[38;5;241m.\u001b[39mset_loglevel(\u001b[38;5;124m\"\u001b[39m\u001b[38;5;124mERROR\u001b[39m\u001b[38;5;124m\"\u001b[39m)\n",
      "\u001b[0;31mModuleNotFoundError\u001b[0m: No module named 'xgboost'"
     ]
    }
   ],
   "source": [
    "import dtreeviz\n",
    "import matplotlib\n",
    "from sklearn.datasets import load_iris\n",
    "from xgboost import XGBClassifier\n",
    "\n",
    "from ml_courses.utils import display_dtreeviz\n",
    "\n",
    "matplotlib.set_loglevel(\"ERROR\")"
   ]
  },
  {
   "cell_type": "code",
   "execution_count": null,
   "id": "3f64c2dc",
   "metadata": {},
   "outputs": [],
   "source": [
    "iris = load_iris()\n",
    "X, y = iris.data, iris.target\n",
    "\n",
    "clf = XGBClassifier()\n",
    "clf = clf.fit(X, y)"
   ]
  },
  {
   "cell_type": "code",
   "execution_count": null,
   "id": "dd2c6398",
   "metadata": {},
   "outputs": [],
   "source": [
    "# The first tree in the ensemble\n",
    "viz_model = dtreeviz.model(\n",
    "    clf,\n",
    "    tree_index=1,\n",
    "    X_train=X,\n",
    "    y_train=y,\n",
    "    feature_names=iris.feature_names,\n",
    "    target_name=\"Iris type\",\n",
    "    class_names=iris.target_names,\n",
    ")\n",
    "\n",
    "display_dtreeviz(viz_model.view(orientation=\"LR\", fontname=\"DejaVu Sans Mono\", scale=1.5))"
   ]
  },
  {
   "cell_type": "code",
   "execution_count": null,
   "id": "047b80d2",
   "metadata": {},
   "outputs": [],
   "source": [
    "# The 100th tree in the ensemble\n",
    "viz_model = dtreeviz.model(\n",
    "    clf,\n",
    "    tree_index=100,\n",
    "    X_train=X,\n",
    "    y_train=y,\n",
    "    feature_names=iris.feature_names,\n",
    "    target_name=\"Iris type\",\n",
    "    class_names=iris.target_names,\n",
    ")\n",
    "\n",
    "display_dtreeviz(viz_model.view(orientation=\"LR\", fontname=\"DejaVu Sans Mono\", scale=1.5))"
   ]
  }
 ],
 "metadata": {
  "kernelspec": {
   "display_name": "ml-courses",
   "language": "python",
   "name": "python3"
  },
  "language_info": {
   "codemirror_mode": {
    "name": "ipython",
    "version": 3
   },
   "file_extension": ".py",
   "mimetype": "text/x-python",
   "name": "python",
   "nbconvert_exporter": "python",
   "pygments_lexer": "ipython3",
   "version": "3.10.18"
  }
 },
 "nbformat": 4,
 "nbformat_minor": 5
}
