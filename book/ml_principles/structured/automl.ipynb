{
 "cells": [
  {
   "cell_type": "markdown",
   "id": "b4a5880e",
   "metadata": {},
   "source": [
    "# _AutoML_\n",
    "\n",
    "Er bestaan veel _AutoML_ toepassingen voor gestructureerde data - met name voor gesuperviseerde klassificatie en regressie. Ze kunnen de zoektocht naar een gepast model, een gepaste subset van features en gepaste hyper parameterwaarden aanzienlijk vergemakkelijken. De toepassingen hanteren verschillende strategieën, zoals Bayesiaanse optimalisatie, genetische algoritmes, grid search enz.\n",
    "\n",
    "- [auto-sklearn](https://automl.github.io/auto-sklearn/master/)\n",
    "- [TPOT](https://epistasislab.github.io/tpot/latest/)\n",
    "- [Ludwig](https://ludwig.ai/latest/user_guide/automl/)\n",
    "- [AutoGluon](https://auto.gluon.ai/stable/index.html)\n",
    "- ..."
   ]
  }
 ],
 "metadata": {
  "kernelspec": {
   "display_name": "ml-courses",
   "language": "python",
   "name": "python3"
  },
  "language_info": {
   "codemirror_mode": {
    "name": "ipython",
    "version": 3
   },
   "file_extension": ".py",
   "mimetype": "text/x-python",
   "name": "python",
   "nbconvert_exporter": "python",
   "pygments_lexer": "ipython3",
   "version": "3.10.18"
  }
 },
 "nbformat": 4,
 "nbformat_minor": 5
}
