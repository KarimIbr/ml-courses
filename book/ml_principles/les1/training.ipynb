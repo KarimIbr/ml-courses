{
 "cells": [
  {
   "cell_type": "markdown",
   "id": "1ca8e2f9",
   "metadata": {},
   "source": [
    "# Training\n",
    "\n",
    "Zoals eerder vermeld, zijn er twee basis stappen in machine learning:\n",
    "1. Model training\n",
    "2. Model inference\n",
    "\n",
    "Op het moment dat we een model hebben gedefiniëerd, willen we de parameters aan de hand van de beschikbare data schatten. Dat doen we door het gepaste leer-algorithme toe te passen.\n",
    "Dit noemen we **model training**.  \n",
    "  \n",
    "Een **getrained model is een model waarvan de parameters geschat zijn met behulp van een wel bepaalde traing data set**.\n",
    "\n",
    "Eens een model getrained is kunnen we er gebruik van maken voorspellingen te maken en/of acties te ondernemen.\n"
   ]
  }
 ],
 "metadata": {
  "language_info": {
   "name": "python"
  }
 },
 "nbformat": 4,
 "nbformat_minor": 5
}
