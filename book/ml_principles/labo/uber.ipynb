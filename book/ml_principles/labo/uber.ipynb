{
 "cells": [
  {
   "cell_type": "markdown",
   "id": "8fc95652",
   "metadata": {},
   "source": [
    "# Data exploratie\n",
    "In dit labo maken we een verkennende analyse van een bekende open dataset van Uber. Terloops maken we kennis met de [Pandas](https://pandas.pydata.org/) en [Plotly](https://plotly.com/graphing-libraries/) bibliotheken.\n",
    "\n",
    "Bron: [Uber Data Analytics Dashboard](https://www.kaggle.com/datasets/yashdevladdha/uber-ride-analytics-dashboard/data)"
   ]
  },
  {
   "cell_type": "code",
   "execution_count": null,
   "id": "ed239d7d",
   "metadata": {},
   "outputs": [],
   "source": [
    "import os\n",
    "\n",
    "import kagglehub\n",
    "import pandas as pd\n"
   ]
  },
  {
   "cell_type": "code",
   "execution_count": null,
   "id": "f683daf2",
   "metadata": {},
   "outputs": [],
   "source": [
    "# Download data from kaggle\n",
    "path = kagglehub.dataset_download(\"yashdevladdha/uber-ride-analytics-dashboard\")\n",
    "\n",
    "# Load data into Pandas DataFrame\n",
    "csv_file = os.path.join(path, \"ncr_ride_bookings.csv\")\n",
    "df = pd.read_csv(csv_file)\n",
    "print(\"✅ Data loaded successfully!\")"
   ]
  }
 ],
 "metadata": {
  "kernelspec": {
   "display_name": "ml-courses",
   "language": "python",
   "name": "python3"
  },
  "language_info": {
   "codemirror_mode": {
    "name": "ipython",
    "version": 3
   },
   "file_extension": ".py",
   "mimetype": "text/x-python",
   "name": "python",
   "nbconvert_exporter": "python",
   "pygments_lexer": "ipython3",
   "version": "3.10.18"
  }
 },
 "nbformat": 4,
 "nbformat_minor": 5
}
